{
 "cells": [
  {
   "cell_type": "code",
   "execution_count": 2,
   "metadata": {},
   "outputs": [],
   "source": [
    "from netCDF4 import Dataset\n",
    "import numpy as np\n",
    "import pandas as pd\n",
    "from datetime import datetime,timedelta"
   ]
  },
  {
   "cell_type": "code",
   "execution_count": 2,
   "metadata": {},
   "outputs": [],
   "source": [
    "#read in the dataset\n",
    "lst_data=Dataset(r'C:\\Users\\Mahe\\Desktop\\wildfire predictor\\Datasets\\MOD11A1.006_1km_aid0001b.nc','r')\n",
    "ndvi_data=Dataset(r'C:\\Users\\Mahe\\Desktop\\wildfire predictor\\Datasets\\MOD13A2.006_1km_aid0001.nc','r')\n",
    "vcr_data=Dataset(r'C:\\Users\\Mahe\\Desktop\\wildfire predictor\\Datasets\\MOD44B.006_250m_aid000199(2).nc','r')\n",
    "prec_data=Dataset(r'C:\\Users\\Mahe\\Desktop\\wildfire predictor\\Datasets\\CDR_31_2020-06-24033126am_2019.nc','r')\n",
    "ther_data=Dataset(r'C:\\Users\\Mahe\\Desktop\\wildfire predictor\\Datasets\\MOD14A2.006_1km_aid0001.nc','r')\n",
    "#data.variables.keys()"
   ]
  },
  {
   "cell_type": "code",
   "execution_count": 3,
   "metadata": {},
   "outputs": [],
   "source": [
    "#lst variables\n",
    "lat=lst_data.variables['lat'][:]\n",
    "lon=lst_data.variables['lon'][:]\n",
    "lst=lst_data.variables['LST_Day_1km']\n",
    "lstn=lst_data.variables['LST_Night_1km']\n",
    "\n",
    "#ndvi variables\n",
    "nd=ndvi_data.variables['_1_km_16_days_NDVI']\n",
    "nlat=ndvi_data.variables['lat'][:]\n",
    "nlon=ndvi_data.variables['lon'][:]\n",
    "\n",
    "#vcr variables\n",
    "vc=vcr_data.variables['Percent_NonTree_Vegetation'][:]\n",
    "vlat=vcr_data.variables['lat'][:]\n",
    "vlon=vcr_data.variables['lon'][:]\n",
    "\n",
    "#prec variables\n",
    "plat=prec_data.variables['lat'][:]\n",
    "plon=prec_data.variables['lon'][:]\n",
    "pre=prec_data.variables['precip']\n",
    "\n",
    "#thermal anomalies variables\n",
    "tlat=ther_data.variables['lat'][:]\n",
    "tlon=ther_data.variables['lon'][:]\n",
    "fm=ther_data.variables['FireMask']"
   ]
  },
  {
   "cell_type": "code",
   "execution_count": 4,
   "metadata": {},
   "outputs": [
    {
     "data": {
      "text/plain": [
       "['2019-06-02', '2019-06-10', '2019-06-18', '2019-06-26']"
      ]
     },
     "execution_count": 4,
     "metadata": {},
     "output_type": "execute_result"
    }
   ],
   "source": [
    "tdr=[]\n",
    "time=ther_data.variables['time'].units[11:21]\n",
    "stt = datetime.strptime(time, \"%Y-%m-%d\")\n",
    "for i in range(len(ther_data.variables['time'][:])):\n",
    "    m=stt+timedelta(days=int(ther_data.variables['time'][i].data))\n",
    "    tdr.append(m)\n",
    "tdr.pop(0)    \n",
    "td=[]\n",
    "for i in range(len(tdr)):\n",
    "    td.append(tdr[i].date().strftime('%Y-%m-%d'))\n",
    "td  "
   ]
  },
  {
   "cell_type": "code",
   "execution_count": 3,
   "metadata": {},
   "outputs": [
    {
     "data": {
      "text/html": [
       "<div>\n",
       "<style scoped>\n",
       "    .dataframe tbody tr th:only-of-type {\n",
       "        vertical-align: middle;\n",
       "    }\n",
       "\n",
       "    .dataframe tbody tr th {\n",
       "        vertical-align: top;\n",
       "    }\n",
       "\n",
       "    .dataframe thead th {\n",
       "        text-align: right;\n",
       "    }\n",
       "</style>\n",
       "<table border=\"1\" class=\"dataframe\">\n",
       "  <thead>\n",
       "    <tr style=\"text-align: right;\">\n",
       "      <th></th>\n",
       "      <th>latitude</th>\n",
       "      <th>longitude</th>\n",
       "    </tr>\n",
       "  </thead>\n",
       "  <tbody>\n",
       "    <tr>\n",
       "      <th>0</th>\n",
       "      <td>39.73886</td>\n",
       "      <td>-122.29385</td>\n",
       "    </tr>\n",
       "    <tr>\n",
       "      <th>1</th>\n",
       "      <td>39.73400</td>\n",
       "      <td>-122.29448</td>\n",
       "    </tr>\n",
       "    <tr>\n",
       "      <th>2</th>\n",
       "      <td>39.72914</td>\n",
       "      <td>-122.29508</td>\n",
       "    </tr>\n",
       "    <tr>\n",
       "      <th>3</th>\n",
       "      <td>39.73642</td>\n",
       "      <td>-122.29264</td>\n",
       "    </tr>\n",
       "    <tr>\n",
       "      <th>4</th>\n",
       "      <td>39.73156</td>\n",
       "      <td>-122.29321</td>\n",
       "    </tr>\n",
       "    <tr>\n",
       "      <th>...</th>\n",
       "      <td>...</td>\n",
       "      <td>...</td>\n",
       "    </tr>\n",
       "    <tr>\n",
       "      <th>1792</th>\n",
       "      <td>39.27449</td>\n",
       "      <td>-121.68446</td>\n",
       "    </tr>\n",
       "    <tr>\n",
       "      <th>1793</th>\n",
       "      <td>39.66578</td>\n",
       "      <td>-122.26375</td>\n",
       "    </tr>\n",
       "    <tr>\n",
       "      <th>1794</th>\n",
       "      <td>39.66512</td>\n",
       "      <td>-122.26955</td>\n",
       "    </tr>\n",
       "    <tr>\n",
       "      <th>1795</th>\n",
       "      <td>39.66611</td>\n",
       "      <td>-122.26579</td>\n",
       "    </tr>\n",
       "    <tr>\n",
       "      <th>1796</th>\n",
       "      <td>39.66549</td>\n",
       "      <td>-122.27163</td>\n",
       "    </tr>\n",
       "  </tbody>\n",
       "</table>\n",
       "<p>1797 rows × 2 columns</p>\n",
       "</div>"
      ],
      "text/plain": [
       "      latitude  longitude\n",
       "0     39.73886 -122.29385\n",
       "1     39.73400 -122.29448\n",
       "2     39.72914 -122.29508\n",
       "3     39.73642 -122.29264\n",
       "4     39.73156 -122.29321\n",
       "...        ...        ...\n",
       "1792  39.27449 -121.68446\n",
       "1793  39.66578 -122.26375\n",
       "1794  39.66512 -122.26955\n",
       "1795  39.66611 -122.26579\n",
       "1796  39.66549 -122.27163\n",
       "\n",
       "[1797 rows x 2 columns]"
      ]
     },
     "execution_count": 3,
     "metadata": {},
     "output_type": "execute_result"
    }
   ],
   "source": [
    "#import the frp dataset\n",
    "df=pd.read_csv(r'C:\\Users\\Mahe\\Desktop\\wildfire predictor\\loclist.csv')\n",
    "df=df.drop(columns=['Unnamed: 0'])\n",
    "#frp=frp[['latitude','longitude','acq_date','frp']]\n",
    "#df=df[['latitude','longitude']]\n",
    "df"
   ]
  },
  {
   "cell_type": "code",
   "execution_count": 13,
   "metadata": {},
   "outputs": [
    {
     "data": {
      "text/html": [
       "<div>\n",
       "<style scoped>\n",
       "    .dataframe tbody tr th:only-of-type {\n",
       "        vertical-align: middle;\n",
       "    }\n",
       "\n",
       "    .dataframe tbody tr th {\n",
       "        vertical-align: top;\n",
       "    }\n",
       "\n",
       "    .dataframe thead th {\n",
       "        text-align: right;\n",
       "    }\n",
       "</style>\n",
       "<table border=\"1\" class=\"dataframe\">\n",
       "  <thead>\n",
       "    <tr style=\"text-align: right;\">\n",
       "      <th></th>\n",
       "      <th>date</th>\n",
       "      <th>lat</th>\n",
       "      <th>lon</th>\n",
       "      <th>mask</th>\n",
       "    </tr>\n",
       "  </thead>\n",
       "  <tbody>\n",
       "  </tbody>\n",
       "</table>\n",
       "</div>"
      ],
      "text/plain": [
       "Empty DataFrame\n",
       "Columns: [date, lat, lon, mask]\n",
       "Index: []"
      ]
     },
     "execution_count": 13,
     "metadata": {},
     "output_type": "execute_result"
    }
   ],
   "source": [
    "column_names = ['date', 'lat', 'lon','mask']\n",
    "frp= pd.DataFrame(columns = column_names)\n",
    "frp"
   ]
  },
  {
   "cell_type": "code",
   "execution_count": 14,
   "metadata": {},
   "outputs": [
    {
     "name": "stderr",
     "output_type": "stream",
     "text": [
      "C:\\Users\\Mahe\\Anaconda3\\envs\\py36\\lib\\site-packages\\ipykernel_launcher.py:14: UserWarning: Warning: converting a masked element to nan.\n",
      "  \n"
     ]
    }
   ],
   "source": [
    "for index,row in df.iterrows():\n",
    "    la=row['latitude']\n",
    "    lo=row['longitude']\n",
    "    sdflon=(tlon-lo)**2\n",
    "    sdflat=(tlat-la)**2\n",
    "    min_lat=sdflat.argmin()\n",
    "    min_lon=sdflon.argmin()\n",
    "    a=[0.0,0.0,0.0,0.0]\n",
    "    a[1]=tlat[min_lat]\n",
    "    a[2]=tlon[min_lon]\n",
    "    tr=np.arange(1,len(tdr))\n",
    "    for ti in tr:\n",
    "        a[0]=td[ti-1]\n",
    "        a[3]=fm[ti,min_lat,min_lon].__float__()\n",
    "        #a[4]=lstn[ti,min_lat,min_lon].__float__()\n",
    "        ase = pd.Series(a, index = frp.columns)\n",
    "        frp=frp.append(ase,ignore_index=True)"
   ]
  },
  {
   "cell_type": "code",
   "execution_count": 15,
   "metadata": {},
   "outputs": [
    {
     "data": {
      "text/html": [
       "<div>\n",
       "<style scoped>\n",
       "    .dataframe tbody tr th:only-of-type {\n",
       "        vertical-align: middle;\n",
       "    }\n",
       "\n",
       "    .dataframe tbody tr th {\n",
       "        vertical-align: top;\n",
       "    }\n",
       "\n",
       "    .dataframe thead th {\n",
       "        text-align: right;\n",
       "    }\n",
       "</style>\n",
       "<table border=\"1\" class=\"dataframe\">\n",
       "  <thead>\n",
       "    <tr style=\"text-align: right;\">\n",
       "      <th></th>\n",
       "      <th>date</th>\n",
       "      <th>lat</th>\n",
       "      <th>lon</th>\n",
       "      <th>mask</th>\n",
       "    </tr>\n",
       "  </thead>\n",
       "  <tbody>\n",
       "    <tr>\n",
       "      <th>0</th>\n",
       "      <td>2019-06-02</td>\n",
       "      <td>39.7375</td>\n",
       "      <td>-122.295833</td>\n",
       "      <td>9.0</td>\n",
       "    </tr>\n",
       "    <tr>\n",
       "      <th>1</th>\n",
       "      <td>2019-06-10</td>\n",
       "      <td>39.7375</td>\n",
       "      <td>-122.295833</td>\n",
       "      <td>5.0</td>\n",
       "    </tr>\n",
       "    <tr>\n",
       "      <th>2</th>\n",
       "      <td>2019-06-18</td>\n",
       "      <td>39.7375</td>\n",
       "      <td>-122.295833</td>\n",
       "      <td>5.0</td>\n",
       "    </tr>\n",
       "    <tr>\n",
       "      <th>3</th>\n",
       "      <td>2019-06-02</td>\n",
       "      <td>39.7375</td>\n",
       "      <td>-122.295833</td>\n",
       "      <td>9.0</td>\n",
       "    </tr>\n",
       "    <tr>\n",
       "      <th>4</th>\n",
       "      <td>2019-06-10</td>\n",
       "      <td>39.7375</td>\n",
       "      <td>-122.295833</td>\n",
       "      <td>5.0</td>\n",
       "    </tr>\n",
       "    <tr>\n",
       "      <th>...</th>\n",
       "      <td>...</td>\n",
       "      <td>...</td>\n",
       "      <td>...</td>\n",
       "      <td>...</td>\n",
       "    </tr>\n",
       "    <tr>\n",
       "      <th>5386</th>\n",
       "      <td>2019-06-10</td>\n",
       "      <td>39.6625</td>\n",
       "      <td>-122.262500</td>\n",
       "      <td>5.0</td>\n",
       "    </tr>\n",
       "    <tr>\n",
       "      <th>5387</th>\n",
       "      <td>2019-06-18</td>\n",
       "      <td>39.6625</td>\n",
       "      <td>-122.262500</td>\n",
       "      <td>8.0</td>\n",
       "    </tr>\n",
       "    <tr>\n",
       "      <th>5388</th>\n",
       "      <td>2019-06-02</td>\n",
       "      <td>39.6625</td>\n",
       "      <td>-122.270833</td>\n",
       "      <td>5.0</td>\n",
       "    </tr>\n",
       "    <tr>\n",
       "      <th>5389</th>\n",
       "      <td>2019-06-10</td>\n",
       "      <td>39.6625</td>\n",
       "      <td>-122.270833</td>\n",
       "      <td>5.0</td>\n",
       "    </tr>\n",
       "    <tr>\n",
       "      <th>5390</th>\n",
       "      <td>2019-06-18</td>\n",
       "      <td>39.6625</td>\n",
       "      <td>-122.270833</td>\n",
       "      <td>8.0</td>\n",
       "    </tr>\n",
       "  </tbody>\n",
       "</table>\n",
       "<p>5391 rows × 4 columns</p>\n",
       "</div>"
      ],
      "text/plain": [
       "            date      lat         lon  mask\n",
       "0     2019-06-02  39.7375 -122.295833   9.0\n",
       "1     2019-06-10  39.7375 -122.295833   5.0\n",
       "2     2019-06-18  39.7375 -122.295833   5.0\n",
       "3     2019-06-02  39.7375 -122.295833   9.0\n",
       "4     2019-06-10  39.7375 -122.295833   5.0\n",
       "...          ...      ...         ...   ...\n",
       "5386  2019-06-10  39.6625 -122.262500   5.0\n",
       "5387  2019-06-18  39.6625 -122.262500   8.0\n",
       "5388  2019-06-02  39.6625 -122.270833   5.0\n",
       "5389  2019-06-10  39.6625 -122.270833   5.0\n",
       "5390  2019-06-18  39.6625 -122.270833   8.0\n",
       "\n",
       "[5391 rows x 4 columns]"
      ]
     },
     "execution_count": 15,
     "metadata": {},
     "output_type": "execute_result"
    }
   ],
   "source": [
    "frp"
   ]
  },
  {
   "cell_type": "code",
   "execution_count": 16,
   "metadata": {},
   "outputs": [],
   "source": [
    "frp=frp.drop_duplicates( keep='first')"
   ]
  },
  {
   "cell_type": "code",
   "execution_count": 17,
   "metadata": {},
   "outputs": [
    {
     "data": {
      "text/html": [
       "<div>\n",
       "<style scoped>\n",
       "    .dataframe tbody tr th:only-of-type {\n",
       "        vertical-align: middle;\n",
       "    }\n",
       "\n",
       "    .dataframe tbody tr th {\n",
       "        vertical-align: top;\n",
       "    }\n",
       "\n",
       "    .dataframe thead th {\n",
       "        text-align: right;\n",
       "    }\n",
       "</style>\n",
       "<table border=\"1\" class=\"dataframe\">\n",
       "  <thead>\n",
       "    <tr style=\"text-align: right;\">\n",
       "      <th></th>\n",
       "      <th>date</th>\n",
       "      <th>lat</th>\n",
       "      <th>lon</th>\n",
       "      <th>mask</th>\n",
       "    </tr>\n",
       "  </thead>\n",
       "  <tbody>\n",
       "    <tr>\n",
       "      <th>0</th>\n",
       "      <td>2019-06-02</td>\n",
       "      <td>39.737500</td>\n",
       "      <td>-122.295833</td>\n",
       "      <td>9.0</td>\n",
       "    </tr>\n",
       "    <tr>\n",
       "      <th>1</th>\n",
       "      <td>2019-06-10</td>\n",
       "      <td>39.737500</td>\n",
       "      <td>-122.295833</td>\n",
       "      <td>5.0</td>\n",
       "    </tr>\n",
       "    <tr>\n",
       "      <th>2</th>\n",
       "      <td>2019-06-18</td>\n",
       "      <td>39.737500</td>\n",
       "      <td>-122.295833</td>\n",
       "      <td>5.0</td>\n",
       "    </tr>\n",
       "    <tr>\n",
       "      <th>6</th>\n",
       "      <td>2019-06-02</td>\n",
       "      <td>39.729167</td>\n",
       "      <td>-122.295833</td>\n",
       "      <td>9.0</td>\n",
       "    </tr>\n",
       "    <tr>\n",
       "      <th>7</th>\n",
       "      <td>2019-06-10</td>\n",
       "      <td>39.729167</td>\n",
       "      <td>-122.295833</td>\n",
       "      <td>5.0</td>\n",
       "    </tr>\n",
       "    <tr>\n",
       "      <th>...</th>\n",
       "      <td>...</td>\n",
       "      <td>...</td>\n",
       "      <td>...</td>\n",
       "      <td>...</td>\n",
       "    </tr>\n",
       "    <tr>\n",
       "      <th>5362</th>\n",
       "      <td>2019-06-10</td>\n",
       "      <td>39.070833</td>\n",
       "      <td>-121.870833</td>\n",
       "      <td>5.0</td>\n",
       "    </tr>\n",
       "    <tr>\n",
       "      <th>5363</th>\n",
       "      <td>2019-06-18</td>\n",
       "      <td>39.070833</td>\n",
       "      <td>-121.870833</td>\n",
       "      <td>5.0</td>\n",
       "    </tr>\n",
       "    <tr>\n",
       "      <th>5373</th>\n",
       "      <td>2019-06-02</td>\n",
       "      <td>39.270833</td>\n",
       "      <td>-121.687500</td>\n",
       "      <td>5.0</td>\n",
       "    </tr>\n",
       "    <tr>\n",
       "      <th>5374</th>\n",
       "      <td>2019-06-10</td>\n",
       "      <td>39.270833</td>\n",
       "      <td>-121.687500</td>\n",
       "      <td>5.0</td>\n",
       "    </tr>\n",
       "    <tr>\n",
       "      <th>5375</th>\n",
       "      <td>2019-06-18</td>\n",
       "      <td>39.270833</td>\n",
       "      <td>-121.687500</td>\n",
       "      <td>5.0</td>\n",
       "    </tr>\n",
       "  </tbody>\n",
       "</table>\n",
       "<p>2181 rows × 4 columns</p>\n",
       "</div>"
      ],
      "text/plain": [
       "            date        lat         lon  mask\n",
       "0     2019-06-02  39.737500 -122.295833   9.0\n",
       "1     2019-06-10  39.737500 -122.295833   5.0\n",
       "2     2019-06-18  39.737500 -122.295833   5.0\n",
       "6     2019-06-02  39.729167 -122.295833   9.0\n",
       "7     2019-06-10  39.729167 -122.295833   5.0\n",
       "...          ...        ...         ...   ...\n",
       "5362  2019-06-10  39.070833 -121.870833   5.0\n",
       "5363  2019-06-18  39.070833 -121.870833   5.0\n",
       "5373  2019-06-02  39.270833 -121.687500   5.0\n",
       "5374  2019-06-10  39.270833 -121.687500   5.0\n",
       "5375  2019-06-18  39.270833 -121.687500   5.0\n",
       "\n",
       "[2181 rows x 4 columns]"
      ]
     },
     "execution_count": 17,
     "metadata": {},
     "output_type": "execute_result"
    }
   ],
   "source": [
    "frp"
   ]
  },
  {
   "cell_type": "code",
   "execution_count": 18,
   "metadata": {},
   "outputs": [
    {
     "data": {
      "text/plain": [
       "2181"
      ]
     },
     "execution_count": 18,
     "metadata": {},
     "output_type": "execute_result"
    }
   ],
   "source": [
    "len(frp)"
   ]
  },
  {
   "cell_type": "code",
   "execution_count": 19,
   "metadata": {},
   "outputs": [],
   "source": [
    "#compute the date range for the time period of study\n",
    "\n",
    "time=lst_data.variables['time'].units[11:21]\n",
    "stt = datetime.strptime(time, \"%Y-%m-%d\")\n",
    "stt=stt+timedelta(days=int(lst_data.variables['time'][0].data))\n",
    "ett=stt+timedelta(days=30)\n",
    "d_range=pd.date_range(start=stt,end=ett)\n",
    "d=[]\n",
    "for i in range(len(d_range)):\n",
    "    d.append(d_range[i].date().strftime('%Y-%m-%d'))"
   ]
  },
  {
   "cell_type": "code",
   "execution_count": 20,
   "metadata": {},
   "outputs": [
    {
     "data": {
      "text/plain": [
       "['2019-06-01',\n",
       " '2019-06-02',\n",
       " '2019-06-03',\n",
       " '2019-06-04',\n",
       " '2019-06-05',\n",
       " '2019-06-06',\n",
       " '2019-06-07',\n",
       " '2019-06-08',\n",
       " '2019-06-09',\n",
       " '2019-06-10',\n",
       " '2019-06-11',\n",
       " '2019-06-12',\n",
       " '2019-06-13',\n",
       " '2019-06-14',\n",
       " '2019-06-15',\n",
       " '2019-06-16',\n",
       " '2019-06-17',\n",
       " '2019-06-18',\n",
       " '2019-06-19',\n",
       " '2019-06-20',\n",
       " '2019-06-21',\n",
       " '2019-06-22',\n",
       " '2019-06-23',\n",
       " '2019-06-24',\n",
       " '2019-06-25',\n",
       " '2019-06-26',\n",
       " '2019-06-27',\n",
       " '2019-06-28',\n",
       " '2019-06-29',\n",
       " '2019-06-30',\n",
       " '2019-07-01']"
      ]
     },
     "execution_count": 20,
     "metadata": {},
     "output_type": "execute_result"
    }
   ],
   "source": [
    "d"
   ]
  },
  {
   "cell_type": "markdown",
   "metadata": {},
   "source": [
    "# Extract LST"
   ]
  },
  {
   "cell_type": "code",
   "execution_count": 21,
   "metadata": {},
   "outputs": [],
   "source": [
    "ld=[]\n",
    "ln=[]"
   ]
  },
  {
   "cell_type": "code",
   "execution_count": 22,
   "metadata": {},
   "outputs": [
    {
     "name": "stderr",
     "output_type": "stream",
     "text": [
      "C:\\Users\\Mahe\\Anaconda3\\envs\\py36\\lib\\site-packages\\ipykernel_launcher.py:10: UserWarning: Warning: converting a masked element to nan.\n",
      "  # Remove the CWD from sys.path while we load stuff.\n",
      "C:\\Users\\Mahe\\Anaconda3\\envs\\py36\\lib\\site-packages\\ipykernel_launcher.py:9: UserWarning: Warning: converting a masked element to nan.\n",
      "  if __name__ == '__main__':\n"
     ]
    }
   ],
   "source": [
    "for index,row in frp.iterrows():\n",
    "    la=row['lat']\n",
    "    lo=row['lon']\n",
    "    sdflon=(lon-lo)**2\n",
    "    sdflat=(lat-la)**2\n",
    "    min_lat=sdflat.argmin()\n",
    "    min_lon=sdflon.argmin()\n",
    "    i=d.index(row['date'])\n",
    "    ld.append(lst[i,min_lat,min_lon].__float__())\n",
    "    ln.append(lstn[i,min_lat,min_lon].__float__())"
   ]
  },
  {
   "cell_type": "code",
   "execution_count": 23,
   "metadata": {},
   "outputs": [
    {
     "data": {
      "text/plain": [
       "2181"
      ]
     },
     "execution_count": 23,
     "metadata": {},
     "output_type": "execute_result"
    }
   ],
   "source": [
    "len(ld)"
   ]
  },
  {
   "cell_type": "code",
   "execution_count": 24,
   "metadata": {},
   "outputs": [
    {
     "data": {
      "text/plain": [
       "310.26"
      ]
     },
     "execution_count": 24,
     "metadata": {},
     "output_type": "execute_result"
    }
   ],
   "source": [
    "la=39.737500\n",
    "lo=-122.295833\t\n",
    "sdflon=(lon-lo)**2\n",
    "sdflat=(lat-la)**2\n",
    "min_lat=sdflat.argmin()\n",
    "min_lon=sdflon.argmin()\n",
    "x=lst[1,min_lat,min_lon].__float__()\n",
    "x"
   ]
  },
  {
   "cell_type": "markdown",
   "metadata": {},
   "source": [
    "# Extract NDVI"
   ]
  },
  {
   "cell_type": "code",
   "execution_count": 25,
   "metadata": {},
   "outputs": [],
   "source": [
    "#to be changed based on time period of data/study\n",
    "#list contains number of days between each reading\n",
    "b=[9,16,6]\n",
    "m=-1\n",
    "x=[]\n",
    "for i in b:\n",
    "    m=m+1\n",
    "    for n in range(i):\n",
    "        x.append(m)\n",
    "ndv=[]"
   ]
  },
  {
   "cell_type": "code",
   "execution_count": 26,
   "metadata": {},
   "outputs": [
    {
     "name": "stderr",
     "output_type": "stream",
     "text": [
      "C:\\Users\\Mahe\\Anaconda3\\envs\\py36\\lib\\site-packages\\ipykernel_launcher.py:9: UserWarning: Warning: converting a masked element to nan.\n",
      "  if __name__ == '__main__':\n"
     ]
    }
   ],
   "source": [
    "for index,row in frp.iterrows():\n",
    "    la=row['lat']\n",
    "    lo=row['lon']\n",
    "    sdflon=(nlon-lo)**2\n",
    "    sdflat=(nlat-la)**2\n",
    "    min_lat=sdflat.argmin()\n",
    "    min_lon=sdflon.argmin()\n",
    "    i=x[d.index(frp.loc[index,'date'])]\n",
    "    ndv.append(nd[i,min_lat,min_lon].__float__())"
   ]
  },
  {
   "cell_type": "code",
   "execution_count": 27,
   "metadata": {},
   "outputs": [
    {
     "data": {
      "text/plain": [
       "2181"
      ]
     },
     "execution_count": 27,
     "metadata": {},
     "output_type": "execute_result"
    }
   ],
   "source": [
    "len(ndv)"
   ]
  },
  {
   "cell_type": "markdown",
   "metadata": {},
   "source": [
    "# Extract VCR"
   ]
  },
  {
   "cell_type": "code",
   "execution_count": 28,
   "metadata": {},
   "outputs": [
    {
     "name": "stderr",
     "output_type": "stream",
     "text": [
      "C:\\Users\\Mahe\\Anaconda3\\envs\\py36\\lib\\site-packages\\ipykernel_launcher.py:10: UserWarning: Warning: converting a masked element to nan.\n",
      "  # Remove the CWD from sys.path while we load stuff.\n"
     ]
    }
   ],
   "source": [
    "vb=[]\n",
    "for index,row in frp.iterrows():\n",
    "    la=row['lat']\n",
    "    lo=row['lon']\n",
    "    sdflon=(vlon-lo)**2\n",
    "    sdflat=(vlat-la)**2\n",
    "    min_lat=sdflat.argmin()\n",
    "    min_lon=sdflon.argmin()\n",
    "    #i=d.index(row['acq_date'])\n",
    "    vb.append(vc[0,min_lat,min_lon].__float__())\n",
    "    #v=vc[0, min_lat, min_lat].__float__()"
   ]
  },
  {
   "cell_type": "code",
   "execution_count": 29,
   "metadata": {},
   "outputs": [
    {
     "data": {
      "text/plain": [
       "2181"
      ]
     },
     "execution_count": 29,
     "metadata": {},
     "output_type": "execute_result"
    }
   ],
   "source": [
    "len(vb)"
   ]
  },
  {
   "cell_type": "markdown",
   "metadata": {},
   "source": [
    "# Extract Precipitation values "
   ]
  },
  {
   "cell_type": "code",
   "execution_count": 30,
   "metadata": {},
   "outputs": [],
   "source": [
    "pr=[]"
   ]
  },
  {
   "cell_type": "code",
   "execution_count": 31,
   "metadata": {},
   "outputs": [],
   "source": [
    "for index,row in frp.iterrows():\n",
    "    la=row['lat']\n",
    "    lo=row['lon']\n",
    "    sdflon=(plon-lo)**2\n",
    "    sdflat=(plat-la)**2\n",
    "    min_lat=sdflat.argmin()\n",
    "    min_lon=sdflon.argmin()\n",
    "    i=d.index(row['date'])\n",
    "    pr.append(pre[i,min_lat,min_lon].__float__())"
   ]
  },
  {
   "cell_type": "code",
   "execution_count": 32,
   "metadata": {},
   "outputs": [
    {
     "data": {
      "text/plain": [
       "2181"
      ]
     },
     "execution_count": 32,
     "metadata": {},
     "output_type": "execute_result"
    }
   ],
   "source": [
    "len(pr)"
   ]
  },
  {
   "cell_type": "code",
   "execution_count": 33,
   "metadata": {},
   "outputs": [
    {
     "data": {
      "text/html": [
       "<div>\n",
       "<style scoped>\n",
       "    .dataframe tbody tr th:only-of-type {\n",
       "        vertical-align: middle;\n",
       "    }\n",
       "\n",
       "    .dataframe tbody tr th {\n",
       "        vertical-align: top;\n",
       "    }\n",
       "\n",
       "    .dataframe thead th {\n",
       "        text-align: right;\n",
       "    }\n",
       "</style>\n",
       "<table border=\"1\" class=\"dataframe\">\n",
       "  <thead>\n",
       "    <tr style=\"text-align: right;\">\n",
       "      <th></th>\n",
       "      <th>date</th>\n",
       "      <th>lat</th>\n",
       "      <th>lon</th>\n",
       "      <th>mask</th>\n",
       "    </tr>\n",
       "  </thead>\n",
       "  <tbody>\n",
       "    <tr>\n",
       "      <th>0</th>\n",
       "      <td>2019-06-02</td>\n",
       "      <td>39.737500</td>\n",
       "      <td>-122.295833</td>\n",
       "      <td>9.0</td>\n",
       "    </tr>\n",
       "    <tr>\n",
       "      <th>1</th>\n",
       "      <td>2019-06-10</td>\n",
       "      <td>39.737500</td>\n",
       "      <td>-122.295833</td>\n",
       "      <td>5.0</td>\n",
       "    </tr>\n",
       "    <tr>\n",
       "      <th>2</th>\n",
       "      <td>2019-06-18</td>\n",
       "      <td>39.737500</td>\n",
       "      <td>-122.295833</td>\n",
       "      <td>5.0</td>\n",
       "    </tr>\n",
       "    <tr>\n",
       "      <th>6</th>\n",
       "      <td>2019-06-02</td>\n",
       "      <td>39.729167</td>\n",
       "      <td>-122.295833</td>\n",
       "      <td>9.0</td>\n",
       "    </tr>\n",
       "    <tr>\n",
       "      <th>7</th>\n",
       "      <td>2019-06-10</td>\n",
       "      <td>39.729167</td>\n",
       "      <td>-122.295833</td>\n",
       "      <td>5.0</td>\n",
       "    </tr>\n",
       "    <tr>\n",
       "      <th>...</th>\n",
       "      <td>...</td>\n",
       "      <td>...</td>\n",
       "      <td>...</td>\n",
       "      <td>...</td>\n",
       "    </tr>\n",
       "    <tr>\n",
       "      <th>5362</th>\n",
       "      <td>2019-06-10</td>\n",
       "      <td>39.070833</td>\n",
       "      <td>-121.870833</td>\n",
       "      <td>5.0</td>\n",
       "    </tr>\n",
       "    <tr>\n",
       "      <th>5363</th>\n",
       "      <td>2019-06-18</td>\n",
       "      <td>39.070833</td>\n",
       "      <td>-121.870833</td>\n",
       "      <td>5.0</td>\n",
       "    </tr>\n",
       "    <tr>\n",
       "      <th>5373</th>\n",
       "      <td>2019-06-02</td>\n",
       "      <td>39.270833</td>\n",
       "      <td>-121.687500</td>\n",
       "      <td>5.0</td>\n",
       "    </tr>\n",
       "    <tr>\n",
       "      <th>5374</th>\n",
       "      <td>2019-06-10</td>\n",
       "      <td>39.270833</td>\n",
       "      <td>-121.687500</td>\n",
       "      <td>5.0</td>\n",
       "    </tr>\n",
       "    <tr>\n",
       "      <th>5375</th>\n",
       "      <td>2019-06-18</td>\n",
       "      <td>39.270833</td>\n",
       "      <td>-121.687500</td>\n",
       "      <td>5.0</td>\n",
       "    </tr>\n",
       "  </tbody>\n",
       "</table>\n",
       "<p>2181 rows × 4 columns</p>\n",
       "</div>"
      ],
      "text/plain": [
       "            date        lat         lon  mask\n",
       "0     2019-06-02  39.737500 -122.295833   9.0\n",
       "1     2019-06-10  39.737500 -122.295833   5.0\n",
       "2     2019-06-18  39.737500 -122.295833   5.0\n",
       "6     2019-06-02  39.729167 -122.295833   9.0\n",
       "7     2019-06-10  39.729167 -122.295833   5.0\n",
       "...          ...        ...         ...   ...\n",
       "5362  2019-06-10  39.070833 -121.870833   5.0\n",
       "5363  2019-06-18  39.070833 -121.870833   5.0\n",
       "5373  2019-06-02  39.270833 -121.687500   5.0\n",
       "5374  2019-06-10  39.270833 -121.687500   5.0\n",
       "5375  2019-06-18  39.270833 -121.687500   5.0\n",
       "\n",
       "[2181 rows x 4 columns]"
      ]
     },
     "execution_count": 33,
     "metadata": {},
     "output_type": "execute_result"
    }
   ],
   "source": [
    "frp"
   ]
  },
  {
   "cell_type": "code",
   "execution_count": 34,
   "metadata": {},
   "outputs": [
    {
     "name": "stderr",
     "output_type": "stream",
     "text": [
      "C:\\Users\\Mahe\\Anaconda3\\envs\\py36\\lib\\site-packages\\ipykernel_launcher.py:2: SettingWithCopyWarning: \n",
      "A value is trying to be set on a copy of a slice from a DataFrame.\n",
      "Try using .loc[row_indexer,col_indexer] = value instead\n",
      "\n",
      "See the caveats in the documentation: https://pandas.pydata.org/pandas-docs/stable/user_guide/indexing.html#returning-a-view-versus-a-copy\n",
      "  \n",
      "C:\\Users\\Mahe\\Anaconda3\\envs\\py36\\lib\\site-packages\\ipykernel_launcher.py:3: SettingWithCopyWarning: \n",
      "A value is trying to be set on a copy of a slice from a DataFrame.\n",
      "Try using .loc[row_indexer,col_indexer] = value instead\n",
      "\n",
      "See the caveats in the documentation: https://pandas.pydata.org/pandas-docs/stable/user_guide/indexing.html#returning-a-view-versus-a-copy\n",
      "  This is separate from the ipykernel package so we can avoid doing imports until\n",
      "C:\\Users\\Mahe\\Anaconda3\\envs\\py36\\lib\\site-packages\\ipykernel_launcher.py:4: SettingWithCopyWarning: \n",
      "A value is trying to be set on a copy of a slice from a DataFrame.\n",
      "Try using .loc[row_indexer,col_indexer] = value instead\n",
      "\n",
      "See the caveats in the documentation: https://pandas.pydata.org/pandas-docs/stable/user_guide/indexing.html#returning-a-view-versus-a-copy\n",
      "  after removing the cwd from sys.path.\n",
      "C:\\Users\\Mahe\\Anaconda3\\envs\\py36\\lib\\site-packages\\ipykernel_launcher.py:5: SettingWithCopyWarning: \n",
      "A value is trying to be set on a copy of a slice from a DataFrame.\n",
      "Try using .loc[row_indexer,col_indexer] = value instead\n",
      "\n",
      "See the caveats in the documentation: https://pandas.pydata.org/pandas-docs/stable/user_guide/indexing.html#returning-a-view-versus-a-copy\n",
      "  \"\"\"\n",
      "C:\\Users\\Mahe\\Anaconda3\\envs\\py36\\lib\\site-packages\\ipykernel_launcher.py:6: SettingWithCopyWarning: \n",
      "A value is trying to be set on a copy of a slice from a DataFrame.\n",
      "Try using .loc[row_indexer,col_indexer] = value instead\n",
      "\n",
      "See the caveats in the documentation: https://pandas.pydata.org/pandas-docs/stable/user_guide/indexing.html#returning-a-view-versus-a-copy\n",
      "  \n"
     ]
    }
   ],
   "source": [
    "# add columns to the frp dataframe\n",
    "frp['lst']=ld\n",
    "frp['lstn']=ln\n",
    "frp['ndvi']=ndv\n",
    "frp['vcr']=vb\n",
    "frp['prec']=pr"
   ]
  },
  {
   "cell_type": "code",
   "execution_count": 35,
   "metadata": {},
   "outputs": [
    {
     "data": {
      "text/html": [
       "<div>\n",
       "<style scoped>\n",
       "    .dataframe tbody tr th:only-of-type {\n",
       "        vertical-align: middle;\n",
       "    }\n",
       "\n",
       "    .dataframe tbody tr th {\n",
       "        vertical-align: top;\n",
       "    }\n",
       "\n",
       "    .dataframe thead th {\n",
       "        text-align: right;\n",
       "    }\n",
       "</style>\n",
       "<table border=\"1\" class=\"dataframe\">\n",
       "  <thead>\n",
       "    <tr style=\"text-align: right;\">\n",
       "      <th></th>\n",
       "      <th>date</th>\n",
       "      <th>lat</th>\n",
       "      <th>lon</th>\n",
       "      <th>mask</th>\n",
       "      <th>lst</th>\n",
       "      <th>lstn</th>\n",
       "      <th>ndvi</th>\n",
       "      <th>vcr</th>\n",
       "      <th>prec</th>\n",
       "    </tr>\n",
       "  </thead>\n",
       "  <tbody>\n",
       "    <tr>\n",
       "      <th>0</th>\n",
       "      <td>2019-06-02</td>\n",
       "      <td>39.737500</td>\n",
       "      <td>-122.295833</td>\n",
       "      <td>9.0</td>\n",
       "      <td>310.26</td>\n",
       "      <td>NaN</td>\n",
       "      <td>0.3108</td>\n",
       "      <td>59.0</td>\n",
       "      <td>0.718065</td>\n",
       "    </tr>\n",
       "    <tr>\n",
       "      <th>1</th>\n",
       "      <td>2019-06-10</td>\n",
       "      <td>39.737500</td>\n",
       "      <td>-122.295833</td>\n",
       "      <td>5.0</td>\n",
       "      <td>323.92</td>\n",
       "      <td>NaN</td>\n",
       "      <td>0.2526</td>\n",
       "      <td>59.0</td>\n",
       "      <td>0.000000</td>\n",
       "    </tr>\n",
       "    <tr>\n",
       "      <th>2</th>\n",
       "      <td>2019-06-18</td>\n",
       "      <td>39.737500</td>\n",
       "      <td>-122.295833</td>\n",
       "      <td>5.0</td>\n",
       "      <td>NaN</td>\n",
       "      <td>297.90</td>\n",
       "      <td>0.2526</td>\n",
       "      <td>59.0</td>\n",
       "      <td>0.000000</td>\n",
       "    </tr>\n",
       "    <tr>\n",
       "      <th>6</th>\n",
       "      <td>2019-06-02</td>\n",
       "      <td>39.729167</td>\n",
       "      <td>-122.295833</td>\n",
       "      <td>9.0</td>\n",
       "      <td>310.36</td>\n",
       "      <td>NaN</td>\n",
       "      <td>0.3198</td>\n",
       "      <td>57.0</td>\n",
       "      <td>0.718065</td>\n",
       "    </tr>\n",
       "    <tr>\n",
       "      <th>7</th>\n",
       "      <td>2019-06-10</td>\n",
       "      <td>39.729167</td>\n",
       "      <td>-122.295833</td>\n",
       "      <td>5.0</td>\n",
       "      <td>321.90</td>\n",
       "      <td>NaN</td>\n",
       "      <td>0.2670</td>\n",
       "      <td>57.0</td>\n",
       "      <td>0.000000</td>\n",
       "    </tr>\n",
       "    <tr>\n",
       "      <th>...</th>\n",
       "      <td>...</td>\n",
       "      <td>...</td>\n",
       "      <td>...</td>\n",
       "      <td>...</td>\n",
       "      <td>...</td>\n",
       "      <td>...</td>\n",
       "      <td>...</td>\n",
       "      <td>...</td>\n",
       "      <td>...</td>\n",
       "    </tr>\n",
       "    <tr>\n",
       "      <th>5362</th>\n",
       "      <td>2019-06-10</td>\n",
       "      <td>39.070833</td>\n",
       "      <td>-121.870833</td>\n",
       "      <td>5.0</td>\n",
       "      <td>308.10</td>\n",
       "      <td>288.26</td>\n",
       "      <td>0.4873</td>\n",
       "      <td>70.0</td>\n",
       "      <td>0.000000</td>\n",
       "    </tr>\n",
       "    <tr>\n",
       "      <th>5363</th>\n",
       "      <td>2019-06-18</td>\n",
       "      <td>39.070833</td>\n",
       "      <td>-121.870833</td>\n",
       "      <td>5.0</td>\n",
       "      <td>NaN</td>\n",
       "      <td>293.76</td>\n",
       "      <td>0.4873</td>\n",
       "      <td>70.0</td>\n",
       "      <td>0.000000</td>\n",
       "    </tr>\n",
       "    <tr>\n",
       "      <th>5373</th>\n",
       "      <td>2019-06-02</td>\n",
       "      <td>39.270833</td>\n",
       "      <td>-121.687500</td>\n",
       "      <td>5.0</td>\n",
       "      <td>303.80</td>\n",
       "      <td>NaN</td>\n",
       "      <td>0.5500</td>\n",
       "      <td>61.0</td>\n",
       "      <td>0.246932</td>\n",
       "    </tr>\n",
       "    <tr>\n",
       "      <th>5374</th>\n",
       "      <td>2019-06-10</td>\n",
       "      <td>39.270833</td>\n",
       "      <td>-121.687500</td>\n",
       "      <td>5.0</td>\n",
       "      <td>306.78</td>\n",
       "      <td>NaN</td>\n",
       "      <td>0.4881</td>\n",
       "      <td>61.0</td>\n",
       "      <td>0.000000</td>\n",
       "    </tr>\n",
       "    <tr>\n",
       "      <th>5375</th>\n",
       "      <td>2019-06-18</td>\n",
       "      <td>39.270833</td>\n",
       "      <td>-121.687500</td>\n",
       "      <td>5.0</td>\n",
       "      <td>311.34</td>\n",
       "      <td>296.38</td>\n",
       "      <td>0.4881</td>\n",
       "      <td>61.0</td>\n",
       "      <td>0.000000</td>\n",
       "    </tr>\n",
       "  </tbody>\n",
       "</table>\n",
       "<p>2181 rows × 9 columns</p>\n",
       "</div>"
      ],
      "text/plain": [
       "            date        lat         lon  mask     lst    lstn    ndvi   vcr  \\\n",
       "0     2019-06-02  39.737500 -122.295833   9.0  310.26     NaN  0.3108  59.0   \n",
       "1     2019-06-10  39.737500 -122.295833   5.0  323.92     NaN  0.2526  59.0   \n",
       "2     2019-06-18  39.737500 -122.295833   5.0     NaN  297.90  0.2526  59.0   \n",
       "6     2019-06-02  39.729167 -122.295833   9.0  310.36     NaN  0.3198  57.0   \n",
       "7     2019-06-10  39.729167 -122.295833   5.0  321.90     NaN  0.2670  57.0   \n",
       "...          ...        ...         ...   ...     ...     ...     ...   ...   \n",
       "5362  2019-06-10  39.070833 -121.870833   5.0  308.10  288.26  0.4873  70.0   \n",
       "5363  2019-06-18  39.070833 -121.870833   5.0     NaN  293.76  0.4873  70.0   \n",
       "5373  2019-06-02  39.270833 -121.687500   5.0  303.80     NaN  0.5500  61.0   \n",
       "5374  2019-06-10  39.270833 -121.687500   5.0  306.78     NaN  0.4881  61.0   \n",
       "5375  2019-06-18  39.270833 -121.687500   5.0  311.34  296.38  0.4881  61.0   \n",
       "\n",
       "          prec  \n",
       "0     0.718065  \n",
       "1     0.000000  \n",
       "2     0.000000  \n",
       "6     0.718065  \n",
       "7     0.000000  \n",
       "...        ...  \n",
       "5362  0.000000  \n",
       "5363  0.000000  \n",
       "5373  0.246932  \n",
       "5374  0.000000  \n",
       "5375  0.000000  \n",
       "\n",
       "[2181 rows x 9 columns]"
      ]
     },
     "execution_count": 35,
     "metadata": {},
     "output_type": "execute_result"
    }
   ],
   "source": [
    "frp"
   ]
  },
  {
   "cell_type": "code",
   "execution_count": 38,
   "metadata": {},
   "outputs": [],
   "source": [
    "frp.to_csv(r'C:\\Users\\Mahe\\Desktop\\wildfire predictor\\extract.csv')"
   ]
  },
  {
   "cell_type": "code",
   "execution_count": null,
   "metadata": {},
   "outputs": [],
   "source": []
  }
 ],
 "metadata": {
  "kernelspec": {
   "display_name": "Python 3",
   "language": "python",
   "name": "python3"
  },
  "language_info": {
   "codemirror_mode": {
    "name": "ipython",
    "version": 3
   },
   "file_extension": ".py",
   "mimetype": "text/x-python",
   "name": "python",
   "nbconvert_exporter": "python",
   "pygments_lexer": "ipython3",
   "version": "3.6.8"
  }
 },
 "nbformat": 4,
 "nbformat_minor": 4
}
