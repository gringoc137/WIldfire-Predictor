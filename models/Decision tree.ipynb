{
 "cells": [
  {
   "cell_type": "code",
   "execution_count": 1,
   "metadata": {},
   "outputs": [],
   "source": [
    "import numpy as np \n",
    "import pandas as pd\n",
    "from sklearn.tree import DecisionTreeClassifier\n",
    "from sklearn.metrics import confusion_matrix, classification_report \n",
    "from imblearn.over_sampling import SMOTE\n",
    "from sklearn import metrics\n",
    "import itertools\n",
    "import matplotlib.pyplot as plt\n",
    "from sklearn.metrics import precision_recall_curve\n",
    "from sklearn.metrics import f1_score\n",
    "from sklearn.metrics import auc"
   ]
  },
  {
   "cell_type": "code",
   "execution_count": 2,
   "metadata": {},
   "outputs": [
    {
     "data": {
      "text/html": [
       "<div>\n",
       "<style scoped>\n",
       "    .dataframe tbody tr th:only-of-type {\n",
       "        vertical-align: middle;\n",
       "    }\n",
       "\n",
       "    .dataframe tbody tr th {\n",
       "        vertical-align: top;\n",
       "    }\n",
       "\n",
       "    .dataframe thead th {\n",
       "        text-align: right;\n",
       "    }\n",
       "</style>\n",
       "<table border=\"1\" class=\"dataframe\">\n",
       "  <thead>\n",
       "    <tr style=\"text-align: right;\">\n",
       "      <th></th>\n",
       "      <th>date</th>\n",
       "      <th>lat</th>\n",
       "      <th>lon</th>\n",
       "      <th>mask</th>\n",
       "      <th>lst</th>\n",
       "      <th>lstn</th>\n",
       "      <th>ndvi</th>\n",
       "      <th>vcr</th>\n",
       "      <th>prec</th>\n",
       "      <th>ma_cat</th>\n",
       "    </tr>\n",
       "  </thead>\n",
       "  <tbody>\n",
       "    <tr>\n",
       "      <th>0</th>\n",
       "      <td>2019-06-02</td>\n",
       "      <td>39.737500</td>\n",
       "      <td>-122.295833</td>\n",
       "      <td>9.0</td>\n",
       "      <td>310.26000</td>\n",
       "      <td>290.921693</td>\n",
       "      <td>0.3108</td>\n",
       "      <td>0.59</td>\n",
       "      <td>0.718065</td>\n",
       "      <td>1</td>\n",
       "    </tr>\n",
       "    <tr>\n",
       "      <th>1</th>\n",
       "      <td>2019-06-10</td>\n",
       "      <td>39.737500</td>\n",
       "      <td>-122.295833</td>\n",
       "      <td>5.0</td>\n",
       "      <td>323.92000</td>\n",
       "      <td>290.921693</td>\n",
       "      <td>0.2526</td>\n",
       "      <td>0.59</td>\n",
       "      <td>0.000000</td>\n",
       "      <td>0</td>\n",
       "    </tr>\n",
       "    <tr>\n",
       "      <th>2</th>\n",
       "      <td>2019-06-18</td>\n",
       "      <td>39.737500</td>\n",
       "      <td>-122.295833</td>\n",
       "      <td>5.0</td>\n",
       "      <td>309.33877</td>\n",
       "      <td>297.900000</td>\n",
       "      <td>0.2526</td>\n",
       "      <td>0.59</td>\n",
       "      <td>0.000000</td>\n",
       "      <td>0</td>\n",
       "    </tr>\n",
       "    <tr>\n",
       "      <th>3</th>\n",
       "      <td>2019-06-02</td>\n",
       "      <td>39.729167</td>\n",
       "      <td>-122.295833</td>\n",
       "      <td>9.0</td>\n",
       "      <td>310.36000</td>\n",
       "      <td>290.921693</td>\n",
       "      <td>0.3198</td>\n",
       "      <td>0.57</td>\n",
       "      <td>0.718065</td>\n",
       "      <td>1</td>\n",
       "    </tr>\n",
       "    <tr>\n",
       "      <th>4</th>\n",
       "      <td>2019-06-10</td>\n",
       "      <td>39.729167</td>\n",
       "      <td>-122.295833</td>\n",
       "      <td>5.0</td>\n",
       "      <td>321.90000</td>\n",
       "      <td>290.921693</td>\n",
       "      <td>0.2670</td>\n",
       "      <td>0.57</td>\n",
       "      <td>0.000000</td>\n",
       "      <td>0</td>\n",
       "    </tr>\n",
       "  </tbody>\n",
       "</table>\n",
       "</div>"
      ],
      "text/plain": [
       "         date        lat         lon  mask        lst        lstn    ndvi  \\\n",
       "0  2019-06-02  39.737500 -122.295833   9.0  310.26000  290.921693  0.3108   \n",
       "1  2019-06-10  39.737500 -122.295833   5.0  323.92000  290.921693  0.2526   \n",
       "2  2019-06-18  39.737500 -122.295833   5.0  309.33877  297.900000  0.2526   \n",
       "3  2019-06-02  39.729167 -122.295833   9.0  310.36000  290.921693  0.3198   \n",
       "4  2019-06-10  39.729167 -122.295833   5.0  321.90000  290.921693  0.2670   \n",
       "\n",
       "    vcr      prec  ma_cat  \n",
       "0  0.59  0.718065       1  \n",
       "1  0.59  0.000000       0  \n",
       "2  0.59  0.000000       0  \n",
       "3  0.57  0.718065       1  \n",
       "4  0.57  0.000000       0  "
      ]
     },
     "execution_count": 2,
     "metadata": {},
     "output_type": "execute_result"
    }
   ],
   "source": [
    "df = pd.read_csv(r'C:\\Users\\Mahe\\Desktop\\Wildfire-Predictor\\final.csv')\n",
    "df=df.drop(columns=['Unnamed: 0'])\n",
    "df.head()"
   ]
  },
  {
   "cell_type": "code",
   "execution_count": 3,
   "metadata": {},
   "outputs": [
    {
     "data": {
      "text/plain": [
       "array([[5.90000000e-01, 3.10260000e+02, 3.10800000e-01, 2.90921693e+02,\n",
       "        7.18065143e-01],\n",
       "       [5.90000000e-01, 3.23920000e+02, 2.52600000e-01, 2.90921693e+02,\n",
       "        0.00000000e+00],\n",
       "       [5.90000000e-01, 3.09338770e+02, 2.52600000e-01, 2.97900000e+02,\n",
       "        0.00000000e+00],\n",
       "       [5.70000000e-01, 3.10360000e+02, 3.19800000e-01, 2.90921693e+02,\n",
       "        7.18065143e-01],\n",
       "       [5.70000000e-01, 3.21900000e+02, 2.67000000e-01, 2.90921693e+02,\n",
       "        0.00000000e+00]])"
      ]
     },
     "execution_count": 3,
     "metadata": {},
     "output_type": "execute_result"
    }
   ],
   "source": [
    "X = df[['vcr', 'lst','ndvi','lstn','prec']] .values  #.astype(float)\n",
    "x=df[['vcr', 'lst','ndvi','lstn','prec']]\n",
    "X[0:5]"
   ]
  },
  {
   "cell_type": "code",
   "execution_count": 4,
   "metadata": {},
   "outputs": [
    {
     "data": {
      "text/plain": [
       "array([1, 0, 0, 1, 0], dtype=int64)"
      ]
     },
     "execution_count": 4,
     "metadata": {},
     "output_type": "execute_result"
    }
   ],
   "source": [
    "y = df['ma_cat'].values\n",
    "y[0:5]"
   ]
  },
  {
   "cell_type": "code",
   "execution_count": 5,
   "metadata": {},
   "outputs": [],
   "source": [
    "from sklearn.model_selection import train_test_split\n",
    "X_train, X_test, y_train, y_test = train_test_split(X, y, test_size=0.3, random_state=3)"
   ]
  },
  {
   "cell_type": "markdown",
   "metadata": {},
   "source": [
    "# Before SMOTE"
   ]
  },
  {
   "cell_type": "code",
   "execution_count": 7,
   "metadata": {},
   "outputs": [
    {
     "name": "stdout",
     "output_type": "stream",
     "text": [
      "78\n",
      "1255\n"
     ]
    }
   ],
   "source": [
    "print(sum(y_train == 1))\n",
    "print(sum(y_train == 0))"
   ]
  },
  {
   "cell_type": "code",
   "execution_count": 6,
   "metadata": {},
   "outputs": [
    {
     "data": {
      "text/plain": [
       "DecisionTreeClassifier(criterion='entropy', max_depth=4)"
      ]
     },
     "execution_count": 6,
     "metadata": {},
     "output_type": "execute_result"
    }
   ],
   "source": [
    "dtr = DecisionTreeClassifier(criterion=\"entropy\", max_depth = 4)\n",
    "dtr # it shows the default parameters"
   ]
  },
  {
   "cell_type": "code",
   "execution_count": 26,
   "metadata": {},
   "outputs": [
    {
     "data": {
      "text/plain": [
       "DecisionTreeClassifier(criterion='entropy', max_depth=4)"
      ]
     },
     "execution_count": 26,
     "metadata": {},
     "output_type": "execute_result"
    }
   ],
   "source": [
    "dtr.fit(X_train,y_train)"
   ]
  },
  {
   "cell_type": "code",
   "execution_count": 27,
   "metadata": {},
   "outputs": [],
   "source": [
    "y_pred = dtr.predict(X_test)"
   ]
  },
  {
   "cell_type": "code",
   "execution_count": 28,
   "metadata": {},
   "outputs": [
    {
     "name": "stdout",
     "output_type": "stream",
     "text": [
      "DecisionTrees's Accuracy:  0.9423076923076923\n"
     ]
    }
   ],
   "source": [
    "print(\"DecisionTrees's Accuracy: \", metrics.accuracy_score(y_test, y_pred))"
   ]
  },
  {
   "cell_type": "code",
   "execution_count": 29,
   "metadata": {},
   "outputs": [
    {
     "name": "stdout",
     "output_type": "stream",
     "text": [
      "              precision    recall  f1-score   support\n",
      "\n",
      "           0       0.95      0.99      0.97       541\n",
      "           1       0.25      0.03      0.06        31\n",
      "\n",
      "    accuracy                           0.94       572\n",
      "   macro avg       0.60      0.51      0.51       572\n",
      "weighted avg       0.91      0.94      0.92       572\n",
      "\n"
     ]
    }
   ],
   "source": [
    "print(classification_report(y_test, y_pred))"
   ]
  },
  {
   "cell_type": "code",
   "execution_count": 15,
   "metadata": {},
   "outputs": [],
   "source": [
    "def plot_confusion_matrix(cm, classes,\n",
    "                          normalize=False,\n",
    "                          title='Confusion matrix',\n",
    "                          cmap=plt.cm.Blues):\n",
    "    \"\"\"\n",
    "    This function prints and plots the confusion matrix.\n",
    "    Normalization can be applied by setting `normalize=True`.\n",
    "    \"\"\"\n",
    "    if normalize:\n",
    "        cm = cm.astype('float') / cm.sum(axis=1)[:, np.newaxis]\n",
    "        print(\"Normalized confusion matrix\")\n",
    "    else:\n",
    "        print('Confusion matrix, without normalization')\n",
    "\n",
    "    print(cm)\n",
    "\n",
    "    plt.imshow(cm, interpolation='nearest', cmap=cmap)\n",
    "    plt.title(title)\n",
    "    plt.colorbar()\n",
    "    tick_marks = np.arange(len(classes))\n",
    "    plt.xticks(tick_marks, classes, rotation=45)\n",
    "    plt.yticks(tick_marks, classes)\n",
    "\n",
    "    fmt = '.2f' if normalize else 'd'\n",
    "    thresh = cm.max() / 2.\n",
    "    for i, j in itertools.product(range(cm.shape[0]), range(cm.shape[1])):\n",
    "        plt.text(j, i, format(cm[i, j], fmt),\n",
    "                 horizontalalignment=\"center\",\n",
    "                 color=\"white\" if cm[i, j] > thresh else \"black\")\n",
    "\n",
    "    plt.tight_layout()\n",
    "    plt.ylabel('True label')\n",
    "    plt.xlabel('Predicted label')\n",
    "print(confusion_matrix(y_test, y_pred, labels=[1,0]))"
   ]
  },
  {
   "cell_type": "code",
   "execution_count": 31,
   "metadata": {},
   "outputs": [
    {
     "name": "stdout",
     "output_type": "stream",
     "text": [
      "Confusion matrix, without normalization\n",
      "[[  1  30]\n",
      " [  3 538]]\n"
     ]
    },
    {
     "data": {
      "image/png": "[encoded data removed]",
      "text/plain": [
       "<Figure size 432x288 with 2 Axes>"
      ]
     },
     "metadata": {
      "needs_background": "light"
     },
     "output_type": "display_data"
    }
   ],
   "source": [
    "# Compute confusion matrix\n",
    "cnf_matrix = confusion_matrix(y_test, y_pred, labels=[1,0])\n",
    "np.set_printoptions(precision=2)\n",
    "\n",
    "\n",
    "# Plot non-normalized confusion matrix\n",
    "plt.figure()\n",
    "plot_confusion_matrix(cnf_matrix, classes=['mask=1','mask=0'],normalize= False,  title='Confusion matrix')"
   ]
  },
  {
   "cell_type": "markdown",
   "metadata": {},
   "source": [
    "# After SMOTE"
   ]
  },
  {
   "cell_type": "code",
   "execution_count": 7,
   "metadata": {},
   "outputs": [],
   "source": [
    "smt = SMOTE()\n",
    "X_train, y_train = smt.fit_sample(X_train, y_train)"
   ]
  },
  {
   "cell_type": "code",
   "execution_count": 8,
   "metadata": {},
   "outputs": [
    {
     "name": "stdout",
     "output_type": "stream",
     "text": [
      "1255\n",
      "1255\n"
     ]
    }
   ],
   "source": [
    "print(sum(y_train == 1))\n",
    "print(sum(y_train == 0))"
   ]
  },
  {
   "cell_type": "code",
   "execution_count": 9,
   "metadata": {},
   "outputs": [
    {
     "data": {
      "text/plain": [
       "DecisionTreeClassifier(criterion='entropy', max_depth=4)"
      ]
     },
     "execution_count": 9,
     "metadata": {},
     "output_type": "execute_result"
    }
   ],
   "source": [
    "dtr.fit(X_train,y_train)"
   ]
  },
  {
   "cell_type": "code",
   "execution_count": 10,
   "metadata": {},
   "outputs": [],
   "source": [
    "y_pred=dtr.predict(X_test)"
   ]
  },
  {
   "cell_type": "code",
   "execution_count": 11,
   "metadata": {},
   "outputs": [
    {
     "name": "stdout",
     "output_type": "stream",
     "text": [
      "DecisionTrees's Accuracy:  0.6870629370629371\n"
     ]
    }
   ],
   "source": [
    "print(\"DecisionTrees's Accuracy: \", metrics.accuracy_score(y_test, y_pred))"
   ]
  },
  {
   "cell_type": "code",
   "execution_count": 12,
   "metadata": {},
   "outputs": [
    {
     "data": {
      "text/plain": [
       "prec    0.390238\n",
       "lst     0.347887\n",
       "lstn    0.188715\n",
       "ndvi    0.037256\n",
       "vcr     0.035903\n",
       "dtype: float64"
      ]
     },
     "execution_count": 12,
     "metadata": {},
     "output_type": "execute_result"
    }
   ],
   "source": [
    "feature_imp = pd.Series(dtr.feature_importances_,index=x.columns.values).sort_values(ascending=False)\n",
    "feature_imp"
   ]
  },
  {
   "cell_type": "code",
   "execution_count": 13,
   "metadata": {},
   "outputs": [
    {
     "name": "stdout",
     "output_type": "stream",
     "text": [
      "              precision    recall  f1-score   support\n",
      "\n",
      "           0       0.97      0.69      0.81       541\n",
      "           1       0.10      0.58      0.17        31\n",
      "\n",
      "    accuracy                           0.69       572\n",
      "   macro avg       0.53      0.64      0.49       572\n",
      "weighted avg       0.92      0.69      0.77       572\n",
      "\n"
     ]
    }
   ],
   "source": [
    "print(classification_report(y_test, y_pred))"
   ]
  },
  {
   "cell_type": "code",
   "execution_count": 16,
   "metadata": {},
   "outputs": [
    {
     "name": "stdout",
     "output_type": "stream",
     "text": [
      "Confusion matrix, without normalization\n",
      "[[ 18  13]\n",
      " [166 375]]\n"
     ]
    },
    {
     "data": {
      "image/png": "[encoded data removed]",
      "text/plain": [
       "<Figure size 432x288 with 2 Axes>"
      ]
     },
     "metadata": {
      "needs_background": "light"
     },
     "output_type": "display_data"
    }
   ],
   "source": [
    "# Compute confusion matrix\n",
    "cnf_matrix = confusion_matrix(y_test, y_pred, labels=[1,0])\n",
    "np.set_printoptions(precision=2)\n",
    "\n",
    "\n",
    "# Plot non-normalized confusion matrix\n",
    "plt.figure()\n",
    "plot_confusion_matrix(cnf_matrix, classes=['mask=1','mask=0'],normalize= False,  title='Confusion matrix')"
   ]
  },
  {
   "cell_type": "code",
   "execution_count": 26,
   "metadata": {},
   "outputs": [
    {
     "data": {
      "text/plain": [
       "array([[0.86, 0.14],\n",
       "       [0.86, 0.14],\n",
       "       [0.86, 0.14],\n",
       "       ...,\n",
       "       [0.86, 0.14],\n",
       "       [0.39, 0.61],\n",
       "       [0.86, 0.14]])"
      ]
     },
     "execution_count": 26,
     "metadata": {},
     "output_type": "execute_result"
    }
   ],
   "source": [
    "dt_probs = dtr.predict_proba(X_test)\n",
    "dt_probs"
   ]
  },
  {
   "cell_type": "code",
   "execution_count": 27,
   "metadata": {},
   "outputs": [
    {
     "data": {
      "text/plain": [
       "array([0.14, 0.14, 0.14, 0.14, 0.61, 0.61, 0.85, 0.14, 0.  , 0.14, 0.61,\n",
       "       0.14, 0.14, 0.14, 0.61, 0.61, 0.61, 0.  , 0.14, 0.14, 0.14, 0.  ,\n",
       "       0.14, 0.61, 0.  , 0.14, 0.  , 0.  , 0.14, 0.61, 0.14, 0.43, 0.  ,\n",
       "       0.14, 0.  , 0.14, 0.61, 0.14, 0.  , 0.14, 0.61, 0.61, 0.14, 0.  ,\n",
       "       0.14, 0.61, 0.61, 0.14, 0.  , 0.  , 0.14, 0.85, 0.14, 0.14, 0.61,\n",
       "       0.  , 0.  , 0.85, 0.61, 0.61, 0.14, 0.85, 0.  , 0.61, 0.61, 0.61,\n",
       "       0.61, 0.  , 0.  , 0.  , 0.54, 0.14, 0.  , 0.14, 0.14, 0.85, 0.61,\n",
       "       0.  , 0.54, 0.14, 0.14, 0.61, 0.14, 0.35, 0.  , 0.61, 0.54, 0.  ,\n",
       "       0.  , 0.14, 0.61, 0.14, 0.61, 0.  , 0.  , 0.61, 0.61, 0.14, 0.14,\n",
       "       0.85, 0.  , 0.  , 0.14, 0.35, 0.61, 0.61, 0.85, 0.86, 0.61, 0.  ,\n",
       "       0.61, 0.61, 0.14, 0.14, 0.61, 0.86, 0.  , 0.14, 0.61, 0.61, 0.14,\n",
       "       0.14, 0.14, 0.85, 0.14, 0.14, 0.  , 0.  , 0.  , 0.14, 0.  , 0.85,\n",
       "       0.14, 0.  , 0.14, 0.14, 0.61, 0.14, 0.85, 0.35, 0.14, 0.61, 0.14,\n",
       "       0.85, 0.14, 0.14, 0.14, 0.  , 0.61, 0.14, 0.61, 1.  , 0.85, 0.  ,\n",
       "       0.14, 0.14, 0.  , 0.14, 0.61, 0.43, 0.14, 0.14, 0.14, 0.61, 0.  ,\n",
       "       0.61, 0.61, 0.14, 0.14, 0.85, 0.14, 0.85, 0.  , 0.  , 0.35, 0.  ,\n",
       "       0.14, 0.  , 0.14, 0.85, 0.61, 0.14, 0.  , 0.61, 0.14, 0.35, 0.14,\n",
       "       0.14, 0.  , 0.14, 0.14, 0.61, 0.85, 0.14, 0.61, 0.35, 0.  , 0.61,\n",
       "       0.85, 0.61, 0.  , 0.61, 0.14, 0.61, 0.  , 0.61, 0.61, 0.14, 0.14,\n",
       "       0.14, 0.61, 0.61, 0.61, 0.85, 0.14, 0.85, 0.14, 0.14, 0.  , 0.14,\n",
       "       0.14, 0.61, 0.  , 0.14, 0.14, 0.14, 0.85, 0.14, 0.61, 0.  , 0.61,\n",
       "       0.61, 0.14, 0.85, 0.61, 0.61, 0.14, 0.14, 0.14, 0.43, 0.14, 0.  ,\n",
       "       0.85, 0.  , 0.61, 0.14, 0.14, 0.14, 0.  , 0.  , 0.61, 0.  , 0.14,\n",
       "       0.14, 0.14, 0.14, 0.35, 0.14, 0.14, 0.61, 0.  , 0.14, 0.14, 0.  ,\n",
       "       0.  , 0.61, 0.14, 0.14, 0.61, 0.14, 0.61, 0.43, 0.14, 0.85, 0.14,\n",
       "       0.14, 0.14, 0.  , 0.61, 0.35, 0.61, 0.14, 0.85, 0.61, 0.14, 0.43,\n",
       "       0.  , 0.14, 0.14, 0.14, 0.14, 0.14, 0.  , 0.61, 0.61, 0.14, 0.85,\n",
       "       0.  , 0.61, 0.  , 0.86, 0.85, 0.  , 0.14, 0.  , 0.  , 0.61, 0.61,\n",
       "       0.61, 0.61, 0.14, 0.14, 0.14, 0.14, 0.14, 0.14, 0.  , 0.14, 0.85,\n",
       "       0.14, 0.85, 0.14, 0.85, 0.14, 0.14, 0.  , 0.14, 0.14, 0.61, 0.  ,\n",
       "       0.  , 0.14, 0.14, 0.14, 0.14, 0.14, 0.14, 0.61, 0.61, 0.35, 0.14,\n",
       "       0.  , 0.43, 0.14, 0.14, 0.14, 0.35, 1.  , 0.61, 0.  , 0.85, 0.35,\n",
       "       0.  , 0.14, 0.14, 0.  , 0.14, 0.14, 0.61, 0.  , 0.14, 0.  , 0.14,\n",
       "       0.35, 0.14, 0.14, 0.  , 0.35, 0.61, 0.  , 0.35, 0.61, 0.14, 0.61,\n",
       "       0.61, 0.35, 0.14, 0.61, 0.14, 0.  , 0.35, 0.  , 0.61, 0.54, 0.  ,\n",
       "       0.  , 0.85, 0.61, 0.85, 0.61, 0.  , 0.14, 0.35, 0.  , 0.43, 0.14,\n",
       "       0.14, 0.85, 0.14, 0.85, 0.14, 0.35, 0.61, 0.14, 0.14, 0.61, 0.  ,\n",
       "       0.14, 0.14, 0.  , 0.14, 0.61, 0.61, 0.35, 0.14, 0.14, 0.  , 0.43,\n",
       "       0.  , 0.14, 0.  , 0.  , 0.35, 0.  , 0.  , 0.14, 0.14, 0.14, 0.  ,\n",
       "       0.61, 0.14, 0.  , 0.61, 0.14, 0.  , 0.61, 0.  , 0.61, 0.85, 0.  ,\n",
       "       0.  , 0.86, 0.61, 0.14, 0.35, 0.14, 0.14, 0.14, 0.14, 0.61, 0.14,\n",
       "       0.  , 0.14, 0.14, 0.  , 0.61, 0.14, 0.43, 0.14, 0.14, 0.14, 0.14,\n",
       "       0.85, 0.14, 0.14, 0.14, 0.  , 0.  , 0.  , 0.14, 0.14, 0.43, 0.43,\n",
       "       0.  , 0.61, 0.14, 0.61, 0.14, 0.14, 0.61, 0.  , 0.61, 0.14, 0.14,\n",
       "       0.61, 0.61, 0.61, 0.  , 0.  , 0.  , 0.14, 0.14, 0.61, 0.14, 0.61,\n",
       "       0.  , 0.14, 0.  , 0.14, 0.14, 0.14, 0.61, 0.14, 0.61, 0.14, 0.  ,\n",
       "       0.54, 0.61, 0.  , 0.85, 0.14, 0.14, 0.14, 0.14, 0.14, 0.85, 0.61,\n",
       "       0.14, 0.14, 0.14, 0.61, 0.85, 0.  , 0.14, 0.85, 0.85, 0.35, 0.14,\n",
       "       0.61, 0.61, 0.14, 0.43, 0.61, 0.43, 0.14, 0.61, 0.14, 0.61, 0.14,\n",
       "       0.  , 0.  , 0.61, 1.  , 0.61, 0.85, 0.14, 0.43, 0.14, 0.35, 0.14,\n",
       "       0.  , 0.14, 0.14, 0.43, 0.  , 0.86, 0.14, 0.  , 0.14, 0.14, 0.85,\n",
       "       0.61, 0.  , 0.61, 0.85, 0.14, 0.  , 0.85, 0.14, 0.14, 0.61, 0.14])"
      ]
     },
     "execution_count": 27,
     "metadata": {},
     "output_type": "execute_result"
    }
   ],
   "source": [
    "dt_probs = dt_probs[:, 1]\n",
    "dt_probs"
   ]
  },
  {
   "cell_type": "code",
   "execution_count": 19,
   "metadata": {},
   "outputs": [],
   "source": [
    "prec, rec, _ = precision_recall_curve(y_test, dt_probs)\n",
    "f1 = f1_score(y_test, y_pred) "
   ]
  },
  {
   "cell_type": "code",
   "execution_count": 20,
   "metadata": {},
   "outputs": [
    {
     "data": {
      "text/plain": [
       "numpy.ndarray"
      ]
     },
     "execution_count": 20,
     "metadata": {},
     "output_type": "execute_result"
    }
   ],
   "source": [
    "type(rec)"
   ]
  },
  {
   "cell_type": "code",
   "execution_count": 22,
   "metadata": {},
   "outputs": [
    {
     "name": "stdout",
     "output_type": "stream",
     "text": [
      "Decision tree: f1=0.167 auc=0.183\n"
     ]
    }
   ],
   "source": [
    "au = auc(rec, prec)\n",
    "print('Decision tree: f1=%.3f auc=%.3f' % (f1, au))"
   ]
  },
  {
   "cell_type": "code",
   "execution_count": 25,
   "metadata": {},
   "outputs": [
    {
     "data": {
      "image/png": "[encoded data removed]",
      "text/plain": [
       "<Figure size 432x288 with 1 Axes>"
      ]
     },
     "metadata": {
      "needs_background": "light"
     },
     "output_type": "display_data"
    }
   ],
   "source": [
    "plt.plot(rec, prec, marker='.', label='Decision tree')\n",
    "# axis labels\n",
    "plt.xlabel('Recall')\n",
    "plt.ylabel('Precision')\n",
    "# show the legend\n",
    "plt.legend()\n",
    "# show the plot\n",
    "plt.show()"
   ]
  },
  {
   "cell_type": "code",
   "execution_count": null,
   "metadata": {},
   "outputs": [],
   "source": []
  }
 ],
 "metadata": {
  "kernelspec": {
   "display_name": "Python 3",
   "language": "python",
   "name": "python3"
  },
  "language_info": {
   "codemirror_mode": {
    "name": "ipython",
    "version": 3
   },
   "file_extension": ".py",
   "mimetype": "text/x-python",
   "name": "python",
   "nbconvert_exporter": "python",
   "pygments_lexer": "ipython3",
   "version": "3.6.8"
  }
 },
 "nbformat": 4,
 "nbformat_minor": 4
}
