{
 "cells": [
  {
   "cell_type": "code",
   "execution_count": 1,
   "metadata": {},
   "outputs": [],
   "source": [
    "import numpy as np \n",
    "import pandas as pd\n",
    "import scipy.optimize as opt\n",
    "from sklearn import preprocessing\n",
    "%matplotlib inline \n",
    "import matplotlib.pyplot as plt\n",
    "import pylab as pl\n",
    "from sklearn.linear_model import LogisticRegression\n",
    "from sklearn.metrics import classification_report, confusion_matrix\n",
    "import sklearn.metrics as metrics\n",
    "import itertools\n",
    "from imblearn.over_sampling import SMOTE\n",
    "from sklearn.metrics import auc\n",
    "from sklearn.metrics import precision_recall_curve\n",
    "from sklearn.metrics import f1_score"
   ]
  },
  {
   "cell_type": "code",
   "execution_count": 2,
   "metadata": {},
   "outputs": [
    {
     "data": {
      "text/html": [
       "<div>\n",
       "<style scoped>\n",
       "    .dataframe tbody tr th:only-of-type {\n",
       "        vertical-align: middle;\n",
       "    }\n",
       "\n",
       "    .dataframe tbody tr th {\n",
       "        vertical-align: top;\n",
       "    }\n",
       "\n",
       "    .dataframe thead th {\n",
       "        text-align: right;\n",
       "    }\n",
       "</style>\n",
       "<table border=\"1\" class=\"dataframe\">\n",
       "  <thead>\n",
       "    <tr style=\"text-align: right;\">\n",
       "      <th></th>\n",
       "      <th>date</th>\n",
       "      <th>lat</th>\n",
       "      <th>lon</th>\n",
       "      <th>mask</th>\n",
       "      <th>lst</th>\n",
       "      <th>lstn</th>\n",
       "      <th>ndvi</th>\n",
       "      <th>vcr</th>\n",
       "      <th>prec</th>\n",
       "      <th>ma_cat</th>\n",
       "    </tr>\n",
       "  </thead>\n",
       "  <tbody>\n",
       "    <tr>\n",
       "      <th>0</th>\n",
       "      <td>2019-06-02</td>\n",
       "      <td>39.737500</td>\n",
       "      <td>-122.295833</td>\n",
       "      <td>9.0</td>\n",
       "      <td>310.26000</td>\n",
       "      <td>290.921693</td>\n",
       "      <td>0.3108</td>\n",
       "      <td>0.59</td>\n",
       "      <td>0.718065</td>\n",
       "      <td>1</td>\n",
       "    </tr>\n",
       "    <tr>\n",
       "      <th>1</th>\n",
       "      <td>2019-06-10</td>\n",
       "      <td>39.737500</td>\n",
       "      <td>-122.295833</td>\n",
       "      <td>5.0</td>\n",
       "      <td>323.92000</td>\n",
       "      <td>290.921693</td>\n",
       "      <td>0.2526</td>\n",
       "      <td>0.59</td>\n",
       "      <td>0.000000</td>\n",
       "      <td>0</td>\n",
       "    </tr>\n",
       "    <tr>\n",
       "      <th>2</th>\n",
       "      <td>2019-06-18</td>\n",
       "      <td>39.737500</td>\n",
       "      <td>-122.295833</td>\n",
       "      <td>5.0</td>\n",
       "      <td>309.33877</td>\n",
       "      <td>297.900000</td>\n",
       "      <td>0.2526</td>\n",
       "      <td>0.59</td>\n",
       "      <td>0.000000</td>\n",
       "      <td>0</td>\n",
       "    </tr>\n",
       "    <tr>\n",
       "      <th>3</th>\n",
       "      <td>2019-06-02</td>\n",
       "      <td>39.729167</td>\n",
       "      <td>-122.295833</td>\n",
       "      <td>9.0</td>\n",
       "      <td>310.36000</td>\n",
       "      <td>290.921693</td>\n",
       "      <td>0.3198</td>\n",
       "      <td>0.57</td>\n",
       "      <td>0.718065</td>\n",
       "      <td>1</td>\n",
       "    </tr>\n",
       "    <tr>\n",
       "      <th>4</th>\n",
       "      <td>2019-06-10</td>\n",
       "      <td>39.729167</td>\n",
       "      <td>-122.295833</td>\n",
       "      <td>5.0</td>\n",
       "      <td>321.90000</td>\n",
       "      <td>290.921693</td>\n",
       "      <td>0.2670</td>\n",
       "      <td>0.57</td>\n",
       "      <td>0.000000</td>\n",
       "      <td>0</td>\n",
       "    </tr>\n",
       "  </tbody>\n",
       "</table>\n",
       "</div>"
      ],
      "text/plain": [
       "         date        lat         lon  mask        lst        lstn    ndvi  \\\n",
       "0  2019-06-02  39.737500 -122.295833   9.0  310.26000  290.921693  0.3108   \n",
       "1  2019-06-10  39.737500 -122.295833   5.0  323.92000  290.921693  0.2526   \n",
       "2  2019-06-18  39.737500 -122.295833   5.0  309.33877  297.900000  0.2526   \n",
       "3  2019-06-02  39.729167 -122.295833   9.0  310.36000  290.921693  0.3198   \n",
       "4  2019-06-10  39.729167 -122.295833   5.0  321.90000  290.921693  0.2670   \n",
       "\n",
       "    vcr      prec  ma_cat  \n",
       "0  0.59  0.718065       1  \n",
       "1  0.59  0.000000       0  \n",
       "2  0.59  0.000000       0  \n",
       "3  0.57  0.718065       1  \n",
       "4  0.57  0.000000       0  "
      ]
     },
     "execution_count": 2,
     "metadata": {},
     "output_type": "execute_result"
    }
   ],
   "source": [
    "df = pd.read_csv(r'C:\\Users\\Mahe\\Desktop\\Wildfire-Predictor\\final.csv')\n",
    "df=df.drop(columns=['Unnamed: 0'])\n",
    "df.head()"
   ]
  },
  {
   "cell_type": "code",
   "execution_count": 3,
   "metadata": {},
   "outputs": [
    {
     "data": {
      "text/plain": [
       "array([[5.90000000e-01, 3.10260000e+02, 3.10800000e-01, 2.90921693e+02,\n",
       "        7.18065143e-01],\n",
       "       [5.90000000e-01, 3.23920000e+02, 2.52600000e-01, 2.90921693e+02,\n",
       "        0.00000000e+00],\n",
       "       [5.90000000e-01, 3.09338770e+02, 2.52600000e-01, 2.97900000e+02,\n",
       "        0.00000000e+00],\n",
       "       [5.70000000e-01, 3.10360000e+02, 3.19800000e-01, 2.90921693e+02,\n",
       "        7.18065143e-01],\n",
       "       [5.70000000e-01, 3.21900000e+02, 2.67000000e-01, 2.90921693e+02,\n",
       "        0.00000000e+00]])"
      ]
     },
     "execution_count": 3,
     "metadata": {},
     "output_type": "execute_result"
    }
   ],
   "source": [
    "X = df[['vcr', 'lst','ndvi','lstn','prec']] .values  #.astype(float)\n",
    "x=df[['vcr', 'lst','ndvi','lstn','prec']]\n",
    "X[0:5]"
   ]
  },
  {
   "cell_type": "code",
   "execution_count": 4,
   "metadata": {},
   "outputs": [
    {
     "data": {
      "text/plain": [
       "array([1, 0, 0, 1, 0], dtype=int64)"
      ]
     },
     "execution_count": 4,
     "metadata": {},
     "output_type": "execute_result"
    }
   ],
   "source": [
    "y = df['ma_cat'].values\n",
    "y[0:5]"
   ]
  },
  {
   "cell_type": "code",
   "execution_count": 5,
   "metadata": {},
   "outputs": [
    {
     "data": {
      "text/plain": [
       "array([[-3.63030991e-01,  1.63890259e-01, -7.74358640e-01,\n",
       "        -1.65104665e-14,  2.65105499e+00],\n",
       "       [-3.63030991e-01,  2.59405503e+00, -1.12630579e+00,\n",
       "        -1.65104665e-14, -5.90206435e-01],\n",
       "       [-3.63030991e-01, -3.03379665e-14, -1.12630579e+00,\n",
       "         2.02688551e+00, -5.90206435e-01],\n",
       "       [-4.71069833e-01,  1.81680631e-01, -7.19933824e-01,\n",
       "        -1.65104665e-14,  2.65105499e+00],\n",
       "       [-4.71069833e-01,  2.23468952e+00, -1.03922608e+00,\n",
       "        -1.65104665e-14, -5.90206435e-01]])"
      ]
     },
     "execution_count": 5,
     "metadata": {},
     "output_type": "execute_result"
    }
   ],
   "source": [
    "X = preprocessing.StandardScaler().fit(X).transform(X)\n",
    "X[0:5]"
   ]
  },
  {
   "cell_type": "code",
   "execution_count": 6,
   "metadata": {},
   "outputs": [
    {
     "name": "stdout",
     "output_type": "stream",
     "text": [
      "Train set: (1333, 5) (1333,)\n",
      "Test set: (572, 5) (572,)\n"
     ]
    }
   ],
   "source": [
    "from sklearn.model_selection import train_test_split\n",
    "X_train, X_test, y_train, y_test = train_test_split( X, y, test_size=0.3, random_state=4)\n",
    "print ('Train set:', X_train.shape,  y_train.shape)\n",
    "print ('Test set:', X_test.shape,  y_test.shape)"
   ]
  },
  {
   "cell_type": "markdown",
   "metadata": {},
   "source": [
    "# Before SMOTE"
   ]
  },
  {
   "cell_type": "code",
   "execution_count": 7,
   "metadata": {},
   "outputs": [
    {
     "data": {
      "text/plain": [
       "LogisticRegression(C=0.01, solver='liblinear')"
      ]
     },
     "execution_count": 7,
     "metadata": {},
     "output_type": "execute_result"
    }
   ],
   "source": [
    "LR = LogisticRegression(C=0.01, solver='liblinear').fit(X_train,y_train)\n",
    "LR"
   ]
  },
  {
   "cell_type": "code",
   "execution_count": 8,
   "metadata": {},
   "outputs": [],
   "source": [
    "y_pred = LR.predict(X_test)"
   ]
  },
  {
   "cell_type": "code",
   "execution_count": 13,
   "metadata": {},
   "outputs": [
    {
     "data": {
      "text/plain": [
       "array([[0.83649757, 0.16350243],\n",
       "       [0.82230476, 0.17769524],\n",
       "       [0.83415448, 0.16584552],\n",
       "       [0.85339396, 0.14660604],\n",
       "       [0.84688371, 0.15311629],\n",
       "       [0.85022263, 0.14977737],\n",
       "       [0.83793983, 0.16206017],\n",
       "       [0.83391881, 0.16608119],\n",
       "       [0.83100584, 0.16899416],\n",
       "       [0.8468366 , 0.1531634 ],\n",
       "       [0.87037046, 0.12962954],\n",
       "       [0.86367662, 0.13632338],\n",
       "       [0.84040332, 0.15959668],\n",
       "       [0.8701137 , 0.1298863 ],\n",
       "       [0.84604481, 0.15395519],\n",
       "       [0.87987101, 0.12012899],\n",
       "       [0.83840541, 0.16159459],\n",
       "       [0.85075423, 0.14924577],\n",
       "       [0.79294251, 0.20705749],\n",
       "       [0.84231593, 0.15768407],\n",
       "       [0.8352141 , 0.1647859 ],\n",
       "       [0.82479752, 0.17520248],\n",
       "       [0.85227285, 0.14772715],\n",
       "       [0.81067823, 0.18932177],\n",
       "       [0.83027638, 0.16972362],\n",
       "       [0.84371088, 0.15628912],\n",
       "       [0.84441157, 0.15558843],\n",
       "       [0.83212718, 0.16787282],\n",
       "       [0.84399955, 0.15600045],\n",
       "       [0.87713667, 0.12286333],\n",
       "       [0.86694617, 0.13305383],\n",
       "       [0.84495844, 0.15504156],\n",
       "       [0.83427167, 0.16572833],\n",
       "       [0.83869371, 0.16130629],\n",
       "       [0.84580045, 0.15419955],\n",
       "       [0.83527789, 0.16472211],\n",
       "       [0.84694838, 0.15305162],\n",
       "       [0.84610293, 0.15389707],\n",
       "       [0.84759995, 0.15240005],\n",
       "       [0.84808182, 0.15191818],\n",
       "       [0.85300414, 0.14699586],\n",
       "       [0.84255773, 0.15744227],\n",
       "       [0.83871016, 0.16128984],\n",
       "       [0.86579458, 0.13420542],\n",
       "       [0.83985164, 0.16014836],\n",
       "       [0.85178542, 0.14821458],\n",
       "       [0.84552287, 0.15447713],\n",
       "       [0.83370583, 0.16629417],\n",
       "       [0.83049517, 0.16950483],\n",
       "       [0.8449199 , 0.1550801 ],\n",
       "       [0.84825481, 0.15174519],\n",
       "       [0.86014607, 0.13985393],\n",
       "       [0.83100634, 0.16899366],\n",
       "       [0.82726433, 0.17273567],\n",
       "       [0.80458649, 0.19541351],\n",
       "       [0.82627269, 0.17372731],\n",
       "       [0.85399072, 0.14600928],\n",
       "       [0.8374004 , 0.1625996 ],\n",
       "       [0.83957646, 0.16042354],\n",
       "       [0.84151214, 0.15848786],\n",
       "       [0.86103406, 0.13896594],\n",
       "       [0.84852827, 0.15147173],\n",
       "       [0.82841475, 0.17158525],\n",
       "       [0.83518445, 0.16481555],\n",
       "       [0.84813306, 0.15186694],\n",
       "       [0.84071948, 0.15928052],\n",
       "       [0.83374596, 0.16625404],\n",
       "       [0.85628967, 0.14371033],\n",
       "       [0.83944103, 0.16055897],\n",
       "       [0.83414741, 0.16585259],\n",
       "       [0.86294232, 0.13705768],\n",
       "       [0.83386352, 0.16613648],\n",
       "       [0.87662806, 0.12337194],\n",
       "       [0.82067748, 0.17932252],\n",
       "       [0.85197464, 0.14802536],\n",
       "       [0.84915359, 0.15084641],\n",
       "       [0.82462794, 0.17537206],\n",
       "       [0.84195875, 0.15804125],\n",
       "       [0.84481718, 0.15518282],\n",
       "       [0.83507734, 0.16492266],\n",
       "       [0.83356341, 0.16643659],\n",
       "       [0.82425485, 0.17574515],\n",
       "       [0.84606153, 0.15393847],\n",
       "       [0.84309713, 0.15690287],\n",
       "       [0.82732069, 0.17267931],\n",
       "       [0.83451743, 0.16548257],\n",
       "       [0.82017597, 0.17982403],\n",
       "       [0.84399416, 0.15600584],\n",
       "       [0.87573142, 0.12426858],\n",
       "       [0.88365965, 0.11634035],\n",
       "       [0.8372992 , 0.1627008 ],\n",
       "       [0.85132975, 0.14867025],\n",
       "       [0.85428271, 0.14571729],\n",
       "       [0.84137378, 0.15862622],\n",
       "       [0.83375213, 0.16624787],\n",
       "       [0.81872382, 0.18127618],\n",
       "       [0.88357692, 0.11642308],\n",
       "       [0.84354546, 0.15645454],\n",
       "       [0.83348785, 0.16651215],\n",
       "       [0.86368077, 0.13631923],\n",
       "       [0.84813   , 0.15187   ],\n",
       "       [0.861352  , 0.138648  ],\n",
       "       [0.82648298, 0.17351702],\n",
       "       [0.84064015, 0.15935985],\n",
       "       [0.85200479, 0.14799521],\n",
       "       [0.84045602, 0.15954398],\n",
       "       [0.83118416, 0.16881584],\n",
       "       [0.85025872, 0.14974128],\n",
       "       [0.84102292, 0.15897708],\n",
       "       [0.8321264 , 0.1678736 ],\n",
       "       [0.84436322, 0.15563678],\n",
       "       [0.84461527, 0.15538473],\n",
       "       [0.83435787, 0.16564213],\n",
       "       [0.84488958, 0.15511042],\n",
       "       [0.86392564, 0.13607436],\n",
       "       [0.8563553 , 0.1436447 ],\n",
       "       [0.82208521, 0.17791479],\n",
       "       [0.82890411, 0.17109589],\n",
       "       [0.8207922 , 0.1792078 ],\n",
       "       [0.82999673, 0.17000327],\n",
       "       [0.84290536, 0.15709464],\n",
       "       [0.82100801, 0.17899199],\n",
       "       [0.82794824, 0.17205176],\n",
       "       [0.78490412, 0.21509588],\n",
       "       [0.84776986, 0.15223014],\n",
       "       [0.82967407, 0.17032593],\n",
       "       [0.85166604, 0.14833396],\n",
       "       [0.83030479, 0.16969521],\n",
       "       [0.84890568, 0.15109432],\n",
       "       [0.84318462, 0.15681538],\n",
       "       [0.78961302, 0.21038698],\n",
       "       [0.85802478, 0.14197522],\n",
       "       [0.83942672, 0.16057328],\n",
       "       [0.88099994, 0.11900006],\n",
       "       [0.84970099, 0.15029901],\n",
       "       [0.82398041, 0.17601959],\n",
       "       [0.85952026, 0.14047974],\n",
       "       [0.85438096, 0.14561904],\n",
       "       [0.85075389, 0.14924611],\n",
       "       [0.84624119, 0.15375881],\n",
       "       [0.84099944, 0.15900056],\n",
       "       [0.8361914 , 0.1638086 ],\n",
       "       [0.84813146, 0.15186854],\n",
       "       [0.81861288, 0.18138712],\n",
       "       [0.84832197, 0.15167803],\n",
       "       [0.85723147, 0.14276853],\n",
       "       [0.86089979, 0.13910021],\n",
       "       [0.84263429, 0.15736571],\n",
       "       [0.84423813, 0.15576187],\n",
       "       [0.85389869, 0.14610131],\n",
       "       [0.84944435, 0.15055565],\n",
       "       [0.83930218, 0.16069782],\n",
       "       [0.87229304, 0.12770696],\n",
       "       [0.84484885, 0.15515115],\n",
       "       [0.83234694, 0.16765306],\n",
       "       [0.84700025, 0.15299975],\n",
       "       [0.86101286, 0.13898714],\n",
       "       [0.87550004, 0.12449996],\n",
       "       [0.85604218, 0.14395782],\n",
       "       [0.84532273, 0.15467727],\n",
       "       [0.84241468, 0.15758532],\n",
       "       [0.83786849, 0.16213151],\n",
       "       [0.84552579, 0.15447421],\n",
       "       [0.83595855, 0.16404145],\n",
       "       [0.82872389, 0.17127611],\n",
       "       [0.81001857, 0.18998143],\n",
       "       [0.84206384, 0.15793616],\n",
       "       [0.84777207, 0.15222793],\n",
       "       [0.83347713, 0.16652287],\n",
       "       [0.84043953, 0.15956047],\n",
       "       [0.80293091, 0.19706909],\n",
       "       [0.85213482, 0.14786518],\n",
       "       [0.84604523, 0.15395477],\n",
       "       [0.85144818, 0.14855182],\n",
       "       [0.83239708, 0.16760292],\n",
       "       [0.82021843, 0.17978157],\n",
       "       [0.85790479, 0.14209521],\n",
       "       [0.82745806, 0.17254194],\n",
       "       [0.87765971, 0.12234029],\n",
       "       [0.84606085, 0.15393915],\n",
       "       [0.82632196, 0.17367804],\n",
       "       [0.84799231, 0.15200769],\n",
       "       [0.84306263, 0.15693737],\n",
       "       [0.82611629, 0.17388371],\n",
       "       [0.8379025 , 0.1620975 ],\n",
       "       [0.84496522, 0.15503478],\n",
       "       [0.85965497, 0.14034503],\n",
       "       [0.84474171, 0.15525829],\n",
       "       [0.83786774, 0.16213226],\n",
       "       [0.84143185, 0.15856815],\n",
       "       [0.80064396, 0.19935604],\n",
       "       [0.85486407, 0.14513593],\n",
       "       [0.823397  , 0.176603  ],\n",
       "       [0.80082524, 0.19917476],\n",
       "       [0.85014975, 0.14985025],\n",
       "       [0.86329101, 0.13670899],\n",
       "       [0.85413072, 0.14586928],\n",
       "       [0.82129163, 0.17870837],\n",
       "       [0.85079513, 0.14920487],\n",
       "       [0.84018721, 0.15981279],\n",
       "       [0.84694437, 0.15305563],\n",
       "       [0.84007325, 0.15992675],\n",
       "       [0.84132508, 0.15867492],\n",
       "       [0.86921695, 0.13078305],\n",
       "       [0.83665186, 0.16334814],\n",
       "       [0.84819638, 0.15180362],\n",
       "       [0.86368991, 0.13631009],\n",
       "       [0.84636733, 0.15363267],\n",
       "       [0.82132527, 0.17867473],\n",
       "       [0.85313935, 0.14686065],\n",
       "       [0.82340026, 0.17659974],\n",
       "       [0.83804431, 0.16195569],\n",
       "       [0.83801273, 0.16198727],\n",
       "       [0.84803779, 0.15196221],\n",
       "       [0.8444877 , 0.1555123 ],\n",
       "       [0.84071454, 0.15928546],\n",
       "       [0.82257128, 0.17742872],\n",
       "       [0.81890844, 0.18109156],\n",
       "       [0.84754861, 0.15245139],\n",
       "       [0.83945742, 0.16054258],\n",
       "       [0.84319845, 0.15680155],\n",
       "       [0.86707597, 0.13292403],\n",
       "       [0.84910118, 0.15089882],\n",
       "       [0.84310909, 0.15689091],\n",
       "       [0.8136261 , 0.1863739 ],\n",
       "       [0.84727263, 0.15272737],\n",
       "       [0.88713649, 0.11286351],\n",
       "       [0.84613843, 0.15386157],\n",
       "       [0.84922314, 0.15077686],\n",
       "       [0.82480277, 0.17519723],\n",
       "       [0.83476681, 0.16523319],\n",
       "       [0.84733371, 0.15266629],\n",
       "       [0.85757392, 0.14242608],\n",
       "       [0.84689704, 0.15310296],\n",
       "       [0.84396157, 0.15603843],\n",
       "       [0.84136059, 0.15863941],\n",
       "       [0.82732927, 0.17267073],\n",
       "       [0.83734325, 0.16265675],\n",
       "       [0.84875853, 0.15124147],\n",
       "       [0.83811746, 0.16188254],\n",
       "       [0.85405624, 0.14594376],\n",
       "       [0.83663609, 0.16336391],\n",
       "       [0.84426886, 0.15573114],\n",
       "       [0.8154816 , 0.1845184 ],\n",
       "       [0.84999404, 0.15000596],\n",
       "       [0.83360975, 0.16639025],\n",
       "       [0.84608435, 0.15391565],\n",
       "       [0.82680196, 0.17319804],\n",
       "       [0.85818405, 0.14181595],\n",
       "       [0.82936453, 0.17063547],\n",
       "       [0.83540651, 0.16459349],\n",
       "       [0.83755644, 0.16244356],\n",
       "       [0.85883236, 0.14116764],\n",
       "       [0.83334161, 0.16665839],\n",
       "       [0.86890138, 0.13109862],\n",
       "       [0.81234615, 0.18765385],\n",
       "       [0.8341935 , 0.1658065 ],\n",
       "       [0.84628139, 0.15371861],\n",
       "       [0.8378214 , 0.1621786 ],\n",
       "       [0.82078278, 0.17921722],\n",
       "       [0.84217286, 0.15782714],\n",
       "       [0.82331643, 0.17668357],\n",
       "       [0.83391452, 0.16608548],\n",
       "       [0.86101574, 0.13898426],\n",
       "       [0.83545099, 0.16454901],\n",
       "       [0.84177621, 0.15822379],\n",
       "       [0.84298248, 0.15701752],\n",
       "       [0.81789722, 0.18210278],\n",
       "       [0.86404942, 0.13595058],\n",
       "       [0.84800317, 0.15199683],\n",
       "       [0.84356666, 0.15643334],\n",
       "       [0.83286587, 0.16713413],\n",
       "       [0.83922892, 0.16077108],\n",
       "       [0.84064174, 0.15935826],\n",
       "       [0.85389396, 0.14610604],\n",
       "       [0.84521049, 0.15478951],\n",
       "       [0.85227285, 0.14772715],\n",
       "       [0.85041463, 0.14958537],\n",
       "       [0.83840274, 0.16159726],\n",
       "       [0.84441157, 0.15558843],\n",
       "       [0.83921765, 0.16078235],\n",
       "       [0.87127674, 0.12872326],\n",
       "       [0.85127325, 0.14872675],\n",
       "       [0.83066247, 0.16933753],\n",
       "       [0.84084825, 0.15915175],\n",
       "       [0.85038643, 0.14961357],\n",
       "       [0.87084531, 0.12915469],\n",
       "       [0.84528066, 0.15471934],\n",
       "       [0.83776493, 0.16223507],\n",
       "       [0.84014087, 0.15985913],\n",
       "       [0.84976194, 0.15023806],\n",
       "       [0.81404819, 0.18595181],\n",
       "       [0.86728778, 0.13271222],\n",
       "       [0.85829808, 0.14170192],\n",
       "       [0.84546697, 0.15453303],\n",
       "       [0.80472633, 0.19527367],\n",
       "       [0.84461498, 0.15538502],\n",
       "       [0.84410308, 0.15589692],\n",
       "       [0.8118342 , 0.1881658 ],\n",
       "       [0.84131576, 0.15868424],\n",
       "       [0.85996971, 0.14003029],\n",
       "       [0.84309713, 0.15690287],\n",
       "       [0.81534167, 0.18465833],\n",
       "       [0.84334486, 0.15665514],\n",
       "       [0.84853327, 0.15146673],\n",
       "       [0.80767789, 0.19232211],\n",
       "       [0.81571012, 0.18428988],\n",
       "       [0.8557788 , 0.1442212 ],\n",
       "       [0.84348341, 0.15651659],\n",
       "       [0.82753719, 0.17246281],\n",
       "       [0.81514012, 0.18485988],\n",
       "       [0.82839423, 0.17160577],\n",
       "       [0.83914475, 0.16085525],\n",
       "       [0.84367083, 0.15632917],\n",
       "       [0.83997759, 0.16002241],\n",
       "       [0.84700417, 0.15299583],\n",
       "       [0.84854238, 0.15145762],\n",
       "       [0.84852708, 0.15147292],\n",
       "       [0.84087464, 0.15912536],\n",
       "       [0.83587246, 0.16412754],\n",
       "       [0.83799982, 0.16200018],\n",
       "       [0.8450386 , 0.1549614 ],\n",
       "       [0.82880201, 0.17119799],\n",
       "       [0.81696265, 0.18303735],\n",
       "       [0.84931706, 0.15068294],\n",
       "       [0.83770725, 0.16229275],\n",
       "       [0.8370339 , 0.1629661 ],\n",
       "       [0.85101821, 0.14898179],\n",
       "       [0.84289368, 0.15710632],\n",
       "       [0.83502334, 0.16497666],\n",
       "       [0.82857411, 0.17142589],\n",
       "       [0.84079078, 0.15920922],\n",
       "       [0.83709703, 0.16290297],\n",
       "       [0.83315675, 0.16684325],\n",
       "       [0.84479789, 0.15520211],\n",
       "       [0.84191672, 0.15808328],\n",
       "       [0.82466891, 0.17533109],\n",
       "       [0.84806483, 0.15193517],\n",
       "       [0.86926778, 0.13073222],\n",
       "       [0.83423619, 0.16576381],\n",
       "       [0.85096946, 0.14903054],\n",
       "       [0.8496914 , 0.1503086 ],\n",
       "       [0.83008101, 0.16991899],\n",
       "       [0.84667942, 0.15332058],\n",
       "       [0.86388276, 0.13611724],\n",
       "       [0.85887457, 0.14112543],\n",
       "       [0.84383954, 0.15616046],\n",
       "       [0.84318462, 0.15681538],\n",
       "       [0.84338488, 0.15661512],\n",
       "       [0.83258106, 0.16741894],\n",
       "       [0.83696477, 0.16303523],\n",
       "       [0.84549599, 0.15450401],\n",
       "       [0.85430469, 0.14569531],\n",
       "       [0.81982843, 0.18017157],\n",
       "       [0.80316162, 0.19683838],\n",
       "       [0.83549775, 0.16450225],\n",
       "       [0.8468366 , 0.1531634 ],\n",
       "       [0.85239025, 0.14760975],\n",
       "       [0.85916274, 0.14083726],\n",
       "       [0.8318091 , 0.1681909 ],\n",
       "       [0.84833492, 0.15166508],\n",
       "       [0.84083088, 0.15916912],\n",
       "       [0.82465654, 0.17534346],\n",
       "       [0.8386586 , 0.1613414 ],\n",
       "       [0.84268221, 0.15731779],\n",
       "       [0.88134194, 0.11865806],\n",
       "       [0.84836963, 0.15163037],\n",
       "       [0.84304682, 0.15695318],\n",
       "       [0.83737987, 0.16262013],\n",
       "       [0.88720879, 0.11279121],\n",
       "       [0.84010868, 0.15989132],\n",
       "       [0.8424835 , 0.1575165 ],\n",
       "       [0.84978956, 0.15021044],\n",
       "       [0.86237625, 0.13762375],\n",
       "       [0.84937398, 0.15062602],\n",
       "       [0.82215757, 0.17784243],\n",
       "       [0.87608985, 0.12391015],\n",
       "       [0.84915359, 0.15084641],\n",
       "       [0.84389796, 0.15610204],\n",
       "       [0.82892974, 0.17107026],\n",
       "       [0.83826283, 0.16173717],\n",
       "       [0.85204229, 0.14795771],\n",
       "       [0.84882417, 0.15117583],\n",
       "       [0.85167273, 0.14832727],\n",
       "       [0.84910578, 0.15089422],\n",
       "       [0.88508423, 0.11491577],\n",
       "       [0.8172897 , 0.1827103 ],\n",
       "       [0.83781214, 0.16218786],\n",
       "       [0.8446243 , 0.1553757 ],\n",
       "       [0.82993308, 0.17006692],\n",
       "       [0.85801204, 0.14198796],\n",
       "       [0.86703335, 0.13296665],\n",
       "       [0.86547539, 0.13452461],\n",
       "       [0.83718487, 0.16281513],\n",
       "       [0.83232043, 0.16767957],\n",
       "       [0.83390977, 0.16609023],\n",
       "       [0.83764934, 0.16235066],\n",
       "       [0.8594383 , 0.1405617 ],\n",
       "       [0.84738548, 0.15261452],\n",
       "       [0.853844  , 0.146156  ],\n",
       "       [0.87780277, 0.12219723],\n",
       "       [0.82668072, 0.17331928],\n",
       "       [0.84121779, 0.15878221],\n",
       "       [0.8418258 , 0.1581742 ],\n",
       "       [0.86075603, 0.13924397],\n",
       "       [0.83526491, 0.16473509],\n",
       "       [0.84526205, 0.15473795],\n",
       "       [0.82507824, 0.17492176]])"
      ]
     },
     "execution_count": 13,
     "metadata": {},
     "output_type": "execute_result"
    }
   ],
   "source": [
    "yhat_prob = LR.predict_proba(X_test)\n",
    "yhat_prob"
   ]
  },
  {
   "cell_type": "code",
   "execution_count": 15,
   "metadata": {},
   "outputs": [
    {
     "name": "stdout",
     "output_type": "stream",
     "text": [
      "Accuracy: 0.9475524475524476\n"
     ]
    }
   ],
   "source": [
    "print(\"Accuracy:\",metrics.accuracy_score(y_test, y_pred))"
   ]
  },
  {
   "cell_type": "code",
   "execution_count": 10,
   "metadata": {},
   "outputs": [
    {
     "name": "stdout",
     "output_type": "stream",
     "text": [
      "              precision    recall  f1-score   support\n",
      "\n",
      "           0       0.95      1.00      0.97       542\n",
      "           1       0.00      0.00      0.00        30\n",
      "\n",
      "    accuracy                           0.95       572\n",
      "   macro avg       0.47      0.50      0.49       572\n",
      "weighted avg       0.90      0.95      0.92       572\n",
      "\n"
     ]
    },
    {
     "name": "stderr",
     "output_type": "stream",
     "text": [
      "C:\\Users\\Mahe\\Anaconda3\\envs\\py36\\lib\\site-packages\\sklearn\\metrics\\_classification.py:1221: UndefinedMetricWarning: Precision and F-score are ill-defined and being set to 0.0 in labels with no predicted samples. Use `zero_division` parameter to control this behavior.\n",
      "  _warn_prf(average, modifier, msg_start, len(result))\n"
     ]
    }
   ],
   "source": [
    "print(classification_report(y_test, y_pred))"
   ]
  },
  {
   "cell_type": "code",
   "execution_count": 8,
   "metadata": {},
   "outputs": [
    {
     "ename": "NameError",
     "evalue": "name 'y_pred' is not defined",
     "output_type": "error",
     "traceback": [
      "\u001b[1;31m---------------------------------------------------------------------------\u001b[0m",
      "\u001b[1;31mNameError\u001b[0m                                 Traceback (most recent call last)",
      "\u001b[1;32m<ipython-input-8-72821362f262>\u001b[0m in \u001b[0;36m<module>\u001b[1;34m\u001b[0m\n\u001b[0;32m     32\u001b[0m     \u001b[0mplt\u001b[0m\u001b[1;33m.\u001b[0m\u001b[0mylabel\u001b[0m\u001b[1;33m(\u001b[0m\u001b[1;34m'True label'\u001b[0m\u001b[1;33m)\u001b[0m\u001b[1;33m\u001b[0m\u001b[1;33m\u001b[0m\u001b[0m\n\u001b[0;32m     33\u001b[0m     \u001b[0mplt\u001b[0m\u001b[1;33m.\u001b[0m\u001b[0mxlabel\u001b[0m\u001b[1;33m(\u001b[0m\u001b[1;34m'Predicted label'\u001b[0m\u001b[1;33m)\u001b[0m\u001b[1;33m\u001b[0m\u001b[1;33m\u001b[0m\u001b[0m\n\u001b[1;32m---> 34\u001b[1;33m \u001b[0mprint\u001b[0m\u001b[1;33m(\u001b[0m\u001b[0mconfusion_matrix\u001b[0m\u001b[1;33m(\u001b[0m\u001b[0my_test\u001b[0m\u001b[1;33m,\u001b[0m \u001b[0my_pred\u001b[0m\u001b[1;33m,\u001b[0m \u001b[0mlabels\u001b[0m\u001b[1;33m=\u001b[0m\u001b[1;33m[\u001b[0m\u001b[1;36m1\u001b[0m\u001b[1;33m,\u001b[0m\u001b[1;36m0\u001b[0m\u001b[1;33m]\u001b[0m\u001b[1;33m)\u001b[0m\u001b[1;33m)\u001b[0m\u001b[1;33m\u001b[0m\u001b[1;33m\u001b[0m\u001b[0m\n\u001b[0m",
      "\u001b[1;31mNameError\u001b[0m: name 'y_pred' is not defined"
     ]
    }
   ],
   "source": [
    "def plot_confusion_matrix(cm, classes,\n",
    "                          normalize=False,\n",
    "                          title='Confusion matrix',\n",
    "                          cmap=plt.cm.Blues):\n",
    "    \"\"\"\n",
    "    This function prints and plots the confusion matrix.\n",
    "    Normalization can be applied by setting `normalize=True`.\n",
    "    \"\"\"\n",
    "    if normalize:\n",
    "        cm = cm.astype('float') / cm.sum(axis=1)[:, np.newaxis]\n",
    "        print(\"Normalized confusion matrix\")\n",
    "    else:\n",
    "        print('Confusion matrix, without normalization')\n",
    "\n",
    "    print(cm)\n",
    "\n",
    "    plt.imshow(cm, interpolation='nearest', cmap=cmap)\n",
    "    plt.title(title)\n",
    "    plt.colorbar()\n",
    "    tick_marks = np.arange(len(classes))\n",
    "    plt.xticks(tick_marks, classes, rotation=45)\n",
    "    plt.yticks(tick_marks, classes)\n",
    "\n",
    "    fmt = '.2f' if normalize else 'd'\n",
    "    thresh = cm.max() / 2.\n",
    "    for i, j in itertools.product(range(cm.shape[0]), range(cm.shape[1])):\n",
    "        plt.text(j, i, format(cm[i, j], fmt),\n",
    "                 horizontalalignment=\"center\",\n",
    "                 color=\"white\" if cm[i, j] > thresh else \"black\")\n",
    "\n",
    "    plt.tight_layout()\n",
    "    plt.ylabel('True label')\n",
    "    plt.xlabel('Predicted label')\n",
    "print(confusion_matrix(y_test, y_pred, labels=[1,0]))"
   ]
  },
  {
   "cell_type": "code",
   "execution_count": 20,
   "metadata": {},
   "outputs": [
    {
     "name": "stdout",
     "output_type": "stream",
     "text": [
      "Confusion matrix, without normalization\n",
      "[[  0  30]\n",
      " [  0 542]]\n"
     ]
    },
    {
     "data": {
      "image/png": "[encoded data removed]",
      "text/plain": [
       "<Figure size 432x288 with 2 Axes>"
      ]
     },
     "metadata": {
      "needs_background": "light"
     },
     "output_type": "display_data"
    }
   ],
   "source": [
    "# Compute confusion matrix\n",
    "cnf_matrix = confusion_matrix(y_test, y_pred, labels=[1,0])\n",
    "np.set_printoptions(precision=2)\n",
    "\n",
    "\n",
    "# Plot non-normalized confusion matrix\n",
    "plt.figure()\n",
    "plot_confusion_matrix(cnf_matrix, classes=['mask=1','mask=0'],normalize= False,  title='Confusion matrix')"
   ]
  },
  {
   "cell_type": "markdown",
   "metadata": {},
   "source": [
    "# After SMOTE"
   ]
  },
  {
   "cell_type": "code",
   "execution_count": 9,
   "metadata": {},
   "outputs": [],
   "source": [
    "smt = SMOTE()\n",
    "X_train, y_train = smt.fit_sample(X_train, y_train)"
   ]
  },
  {
   "cell_type": "code",
   "execution_count": 10,
   "metadata": {},
   "outputs": [
    {
     "data": {
      "text/plain": [
       "LogisticRegression(C=0.01, solver='liblinear')"
      ]
     },
     "execution_count": 10,
     "metadata": {},
     "output_type": "execute_result"
    }
   ],
   "source": [
    "LR = LogisticRegression(C=0.01, solver='liblinear').fit(X_train,y_train)\n",
    "LR"
   ]
  },
  {
   "cell_type": "code",
   "execution_count": 11,
   "metadata": {},
   "outputs": [],
   "source": [
    "y_pred = LR.predict(X_test)"
   ]
  },
  {
   "cell_type": "code",
   "execution_count": 12,
   "metadata": {},
   "outputs": [
    {
     "name": "stdout",
     "output_type": "stream",
     "text": [
      "              precision    recall  f1-score   support\n",
      "\n",
      "           0       0.96      0.64      0.77       542\n",
      "           1       0.08      0.57      0.14        30\n",
      "\n",
      "    accuracy                           0.64       572\n",
      "   macro avg       0.52      0.60      0.46       572\n",
      "weighted avg       0.92      0.64      0.74       572\n",
      "\n"
     ]
    }
   ],
   "source": [
    "print(classification_report(y_test, y_pred))"
   ]
  },
  {
   "cell_type": "code",
   "execution_count": 13,
   "metadata": {},
   "outputs": [
    {
     "name": "stdout",
     "output_type": "stream",
     "text": [
      "Accuracy: 0.6381118881118881\n"
     ]
    }
   ],
   "source": [
    "print(\"Accuracy:\",metrics.accuracy_score(y_test, y_pred))"
   ]
  },
  {
   "cell_type": "code",
   "execution_count": 14,
   "metadata": {},
   "outputs": [
    {
     "name": "stdout",
     "output_type": "stream",
     "text": [
      "Confusion matrix, without normalization\n",
      "[[ 17  13]\n",
      " [194 348]]\n"
     ]
    },
    {
     "data": {
      "image/png": "[encoded data removed]",
      "text/plain": [
       "<Figure size 432x288 with 2 Axes>"
      ]
     },
     "metadata": {
      "needs_background": "light"
     },
     "output_type": "display_data"
    }
   ],
   "source": [
    "# Compute confusion matrix\n",
    "cnf_matrix = confusion_matrix(y_test, y_pred, labels=[1,0])\n",
    "np.set_printoptions(precision=2)\n",
    "\n",
    "\n",
    "# Plot non-normalized confusion matrix\n",
    "plt.figure()\n",
    "plot_confusion_matrix(cnf_matrix, classes=['mask=1','mask=0'],normalize= False,  title='Confusion matrix')"
   ]
  },
  {
   "cell_type": "code",
   "execution_count": 15,
   "metadata": {},
   "outputs": [],
   "source": [
    "lr_probs = LR.predict_proba(X_test)"
   ]
  },
  {
   "cell_type": "code",
   "execution_count": 16,
   "metadata": {},
   "outputs": [],
   "source": [
    "lr_probs = lr_probs[:, 1]"
   ]
  },
  {
   "cell_type": "code",
   "execution_count": 17,
   "metadata": {},
   "outputs": [],
   "source": [
    "prec, rec, _ = precision_recall_curve(y_test, lr_probs)\n",
    "f1 = f1_score(y_test, y_pred) "
   ]
  },
  {
   "cell_type": "code",
   "execution_count": 18,
   "metadata": {},
   "outputs": [
    {
     "name": "stdout",
     "output_type": "stream",
     "text": [
      "Decision tree: f1=0.141 auc=0.072\n"
     ]
    }
   ],
   "source": [
    "au = auc(rec, prec)\n",
    "print('Decision tree: f1=%.3f auc=%.3f' % (f1, au))"
   ]
  },
  {
   "cell_type": "code",
   "execution_count": 19,
   "metadata": {},
   "outputs": [
    {
     "data": {
      "image/png": "[encoded data removed]",
      "text/plain": [
       "<Figure size 432x288 with 1 Axes>"
      ]
     },
     "metadata": {
      "needs_background": "light"
     },
     "output_type": "display_data"
    }
   ],
   "source": [
    "plt.plot(rec, prec, marker='.', label='K Nearest Neighbours')\n",
    "# axis labels\n",
    "plt.xlabel('Recall')\n",
    "plt.ylabel('Precision')\n",
    "# show the legend\n",
    "plt.legend()\n",
    "# show the plot\n",
    "plt.show()"
   ]
  },
  {
   "cell_type": "code",
   "execution_count": null,
   "metadata": {},
   "outputs": [],
   "source": []
  }
 ],
 "metadata": {
  "kernelspec": {
   "display_name": "Python 3",
   "language": "python",
   "name": "python3"
  },
  "language_info": {
   "codemirror_mode": {
    "name": "ipython",
    "version": 3
   },
   "file_extension": ".py",
   "mimetype": "text/x-python",
   "name": "python",
   "nbconvert_exporter": "python",
   "pygments_lexer": "ipython3",
   "version": "3.6.8"
  }
 },
 "nbformat": 4,
 "nbformat_minor": 4
}
